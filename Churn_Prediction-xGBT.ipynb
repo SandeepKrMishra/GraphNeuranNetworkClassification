{
 "cells": [
  {
   "cell_type": "code",
   "execution_count": 193,
   "metadata": {
    "scrolled": false
   },
   "outputs": [],
   "source": [
    "#print(\"HKHR : \", os.getcwd())\n",
    "#Import libraries:\n",
    "import pandas as pd\n",
    "import numpy as np\n",
    "\n",
    "import xgboost as xgb\n",
    "from xgboost import plot_tree\n",
    "from xgboost.sklearn import XGBClassifier\n",
    "\n",
    "from sklearn.preprocessing import OneHotEncoder, LabelEncoder\n",
    "from sklearn.tree import DecisionTreeClassifier\n",
    "\n",
    "from sklearn.model_selection import cross_val_score   #Additional scklearn functions\n",
    "from sklearn.model_selection import cross_validate   #Additional scklearn functions\n",
    "from sklearn.model_selection import train_test_split\n",
    "from sklearn.metrics import confusion_matrix, roc_curve, roc_auc_score, f1_score, precision_recall_curve, accuracy_score, precision_score, recall_score, cohen_kappa_score, average_precision_score\n",
    "\n",
    "from sklearn.model_selection import GridSearchCV   #Perforing grid search\n",
    "\n",
    "import itertools\n",
    "import matplotlib.pyplot as plt \n",
    "import graphviz\n",
    "import seaborn as sns\n",
    "from sklearn.tree import export_graphviz\n",
    "from IPython.display import Image\n",
    "\n",
    "import shap\n",
    "\n",
    "%matplotlib inline"
   ]
  },
  {
   "cell_type": "code",
   "execution_count": 393,
   "metadata": {
    "scrolled": false
   },
   "outputs": [
    {
     "data": {
      "text/plain": [
       "(49752, 58)"
      ]
     },
     "execution_count": 393,
     "metadata": {},
     "output_type": "execute_result"
    }
   ],
   "source": [
    "data = pd.read_csv(r'cell2celltrain.csv')\n",
    "data = data.dropna()\n",
    "data.shape"
   ]
  },
  {
   "cell_type": "code",
   "execution_count": 394,
   "metadata": {
    "scrolled": false
   },
   "outputs": [
    {
     "name": "stdout",
     "output_type": "stream",
     "text": [
      "Index(['CustomerID', 'Churn', 'MonthlyRevenue', 'MonthlyMinutes',\n",
      "       'TotalRecurringCharge', 'DirectorAssistedCalls', 'OverageMinutes',\n",
      "       'RoamingCalls', 'PercChangeMinutes', 'PercChangeRevenues',\n",
      "       'DroppedCalls', 'BlockedCalls', 'UnansweredCalls', 'CustomerCareCalls',\n",
      "       'ThreewayCalls', 'ReceivedCalls', 'OutboundCalls', 'InboundCalls',\n",
      "       'PeakCallsInOut', 'OffPeakCallsInOut', 'DroppedBlockedCalls',\n",
      "       'CallForwardingCalls', 'CallWaitingCalls', 'MonthsInService',\n",
      "       'UniqueSubs', 'ActiveSubs', 'ServiceArea', 'Handsets', 'HandsetModels',\n",
      "       'CurrentEquipmentDays', 'AgeHH1', 'AgeHH2', 'ChildrenInHH',\n",
      "       'HandsetRefurbished', 'HandsetWebCapable', 'TruckOwner', 'RVOwner',\n",
      "       'Homeownership', 'BuysViaMailOrder', 'RespondsToMailOffers',\n",
      "       'OptOutMailings', 'NonUSTravel', 'OwnsComputer', 'HasCreditCard',\n",
      "       'RetentionCalls', 'RetentionOffersAccepted', 'NewCellphoneUser',\n",
      "       'NotNewCellphoneUser', 'ReferralsMadeBySubscriber', 'IncomeGroup',\n",
      "       'OwnsMotorcycle', 'AdjustmentsToCreditRating', 'HandsetPrice',\n",
      "       'MadeCallToRetentionTeam', 'CreditRating', 'PrizmCode', 'Occupation',\n",
      "       'MaritalStatus'],\n",
      "      dtype='object')\n"
     ]
    }
   ],
   "source": [
    "print(data.columns)"
   ]
  },
  {
   "cell_type": "code",
   "execution_count": 395,
   "metadata": {},
   "outputs": [],
   "source": [
    "cat_cols = []\n",
    "num_cols = []\n",
    "for i,col in enumerate(data.columns):\n",
    "    if(data[col].dtypes == 'object'):\n",
    "        cat_cols.append(col)\n",
    "    else:\n",
    "        num_cols.append(col)"
   ]
  },
  {
   "cell_type": "code",
   "execution_count": 396,
   "metadata": {},
   "outputs": [],
   "source": [
    "num_cols = ['MonthlyRevenue', 'TotalRecurringCharge', 'PercChangeMinutes', 'PercChangeRevenues',  'UnansweredCalls', \n",
    "            'MonthsInService', 'CurrentEquipmentDays', 'IncomeGroup',\n",
    "            #'DirectorAssistedCalls', 'RoamingCalls', 'BlockedCalls', 'CustomerCareCalls','ThreewayCalls', 'CallForwardingCalls',\n",
    "            # 'CallWaitingCalls', 'UniqueSubs', 'ActiveSubs', 'Handsets', 'HandsetModels', 'AgeHH1', 'RetentionCalls',\n",
    "            #  'ReferralsMadeBySubscriber', 'AdjustmentsToCreditRating',\n",
    "            \n",
    "            ]"
   ]
  },
  {
   "cell_type": "code",
   "execution_count": 397,
   "metadata": {
    "scrolled": false
   },
   "outputs": [
    {
     "data": {
      "text/plain": [
       "<matplotlib.axes._subplots.AxesSubplot at 0x28a9f29ada0>"
      ]
     },
     "execution_count": 397,
     "metadata": {},
     "output_type": "execute_result"
    },
    {
     "data": {
      "image/png": "[encoded data removed]",
      "text/plain": [
       "<Figure size 432x288 with 2 Axes>"
      ]
     },
     "metadata": {
      "needs_background": "light"
     },
     "output_type": "display_data"
    }
   ],
   "source": [
    "cor_mat = data[num_cols].corr()\n",
    "sns.heatmap(cor_mat)"
   ]
  },
  {
   "cell_type": "code",
   "execution_count": 398,
   "metadata": {
    "scrolled": true
   },
   "outputs": [
    {
     "name": "stdout",
     "output_type": "stream",
     "text": [
      "==============>  MonthlyRevenue\n",
      "==============>  TotalRecurringCharge\n",
      "==============>  PercChangeMinutes\n",
      "==============>  PercChangeRevenues\n",
      "==============>  UnansweredCalls\n",
      "==============>  MonthsInService\n",
      "==============>  CurrentEquipmentDays\n",
      "==============>  IncomeGroup\n"
     ]
    }
   ],
   "source": [
    "quantile_list = [0, .25, .5, .75, 1.]\n",
    "quantile_labels = ['0-25Q', '25-50Q', '50-75Q', '75-100Q']\n",
    "for col in num_cols:\n",
    "    print(\"==============> \", col)\n",
    "    data[col+'_quantile_label'] = pd.qcut(data[col], q=quantile_list, labels=quantile_labels)"
   ]
  },
  {
   "cell_type": "code",
   "execution_count": 399,
   "metadata": {},
   "outputs": [
    {
     "name": "stdout",
     "output_type": "stream",
     "text": [
      "==============>  MonthlyRevenue\n",
      "==============>  DirectorAssistedCalls\n",
      "==============>  RoamingCalls\n",
      "==============>  UnansweredCalls\n",
      "==============>  CustomerCareCalls\n",
      "==============>  ThreewayCalls\n",
      "==============>  BlockedCalls\n",
      "==============>  CallWaitingCalls\n",
      "==============>  CallForwardingCalls\n",
      "==============>  UniqueSubs\n",
      "==============>  ActiveSubs\n",
      "==============>  Handsets\n",
      "==============>  HandsetModels\n",
      "==============>  RetentionCalls\n",
      "==============>  MonthsInService\n",
      "==============>  AdjustmentsToCreditRating\n"
     ]
    }
   ],
   "source": [
    "log_col = ['MonthlyRevenue', 'DirectorAssistedCalls', 'RoamingCalls', 'UnansweredCalls', 'CustomerCareCalls','ThreewayCalls', \n",
    "           'BlockedCalls', 'CallWaitingCalls', 'CallForwardingCalls', 'UniqueSubs', 'ActiveSubs', 'Handsets', 'HandsetModels',\n",
    "           'RetentionCalls', 'MonthsInService', 'AdjustmentsToCreditRating' ]\n",
    "\n",
    "for col in log_col:\n",
    "    print(\"==============> \", col)\n",
    "    data[col+'_log'] = np.log1p(data[col])"
   ]
  },
  {
   "cell_type": "code",
   "execution_count": 400,
   "metadata": {},
   "outputs": [],
   "source": [
    "mean_encoder_columns = ['MadeCallToRetentionTeam' , 'HandsetWebCapable', 'BuysViaMailOrder' , 'RespondsToMailOffers', 'OwnsMotorcycle',\n",
    "            'HandsetPrice', 'CreditRating', 'Occupation', 'MaritalStatus', \"Handsets\",\n",
    "            \"HandsetModels\", \"CurrentEquipmentDays\", \"AgeHH1\", \"AgeHH2\"]\n",
    "        \n",
    "## Mean encoding \n",
    "for col in mean_encoder_columns:\n",
    "    encoding_x = data.groupby([col])['Churn'].count().reset_index()\n",
    "    encoding_x = encoding_x.rename(columns={'Churn' : \"sum\"})\n",
    "    \n",
    "    encoding_y = data.groupby([col])['Churn'].count().reset_index()\n",
    "    encoding_y = encoding_y.rename(columns={'Churn' : \"count\"})\n",
    "   \n",
    "    encoding_z = pd.merge(encoding_x, encoding_y, on = col, how = 'inner')\n",
    "    encoding_z[col+'_mean_encoded'] = (encoding_z['sum'].astype(int)/encoding_z['count'].astype(int))\n",
    "     \n",
    "    encoding_z = encoding_z[[col, col+'_mean_encoded']]\n",
    "    data = pd.merge(data, encoding_z, on = col, how = 'left')"
   ]
  },
  {
   "cell_type": "code",
   "execution_count": 401,
   "metadata": {},
   "outputs": [
    {
     "name": "stdout",
     "output_type": "stream",
     "text": [
      "['CustomerID', 'Churn', 'MonthlyRevenue', 'MonthlyMinutes', 'TotalRecurringCharge', 'DirectorAssistedCalls', 'OverageMinutes', 'RoamingCalls', 'PercChangeMinutes', 'PercChangeRevenues', 'DroppedCalls', 'BlockedCalls', 'UnansweredCalls', 'CustomerCareCalls', 'ThreewayCalls', 'ReceivedCalls', 'OutboundCalls', 'InboundCalls', 'PeakCallsInOut', 'OffPeakCallsInOut', 'DroppedBlockedCalls', 'CallForwardingCalls', 'CallWaitingCalls', 'MonthsInService', 'UniqueSubs', 'ActiveSubs', 'ServiceArea', 'Handsets', 'HandsetModels', 'CurrentEquipmentDays', 'AgeHH1', 'AgeHH2', 'ChildrenInHH', 'HandsetRefurbished', 'HandsetWebCapable', 'TruckOwner', 'RVOwner', 'Homeownership', 'BuysViaMailOrder', 'RespondsToMailOffers', 'OptOutMailings', 'NonUSTravel', 'OwnsComputer', 'HasCreditCard', 'RetentionCalls', 'RetentionOffersAccepted', 'NewCellphoneUser', 'NotNewCellphoneUser', 'ReferralsMadeBySubscriber', 'IncomeGroup', 'OwnsMotorcycle', 'AdjustmentsToCreditRating', 'HandsetPrice', 'MadeCallToRetentionTeam', 'CreditRating', 'PrizmCode', 'Occupation', 'MaritalStatus', 'MonthlyRevenue_quantile_label', 'TotalRecurringCharge_quantile_label', 'PercChangeMinutes_quantile_label', 'PercChangeRevenues_quantile_label', 'UnansweredCalls_quantile_label', 'MonthsInService_quantile_label', 'CurrentEquipmentDays_quantile_label', 'IncomeGroup_quantile_label', 'MonthlyRevenue_log', 'DirectorAssistedCalls_log', 'RoamingCalls_log', 'UnansweredCalls_log', 'CustomerCareCalls_log', 'ThreewayCalls_log', 'BlockedCalls_log', 'CallWaitingCalls_log', 'CallForwardingCalls_log', 'UniqueSubs_log', 'ActiveSubs_log', 'Handsets_log', 'HandsetModels_log', 'RetentionCalls_log', 'MonthsInService_log', 'AdjustmentsToCreditRating_log', 'MadeCallToRetentionTeam_mean_encoded', 'HandsetWebCapable_mean_encoded', 'BuysViaMailOrder_mean_encoded', 'RespondsToMailOffers_mean_encoded', 'OwnsMotorcycle_mean_encoded', 'HandsetPrice_mean_encoded', 'CreditRating_mean_encoded', 'Occupation_mean_encoded', 'MaritalStatus_mean_encoded', 'Handsets_mean_encoded', 'HandsetModels_mean_encoded', 'CurrentEquipmentDays_mean_encoded', 'AgeHH1_mean_encoded', 'AgeHH2_mean_encoded']\n"
     ]
    }
   ],
   "source": [
    "print(list(data.columns))"
   ]
  },
  {
   "cell_type": "code",
   "execution_count": 402,
   "metadata": {
    "scrolled": false
   },
   "outputs": [],
   "source": [
    "from sklearn.model_selection import train_test_split\n",
    "\n",
    "def imbalance_data_train_test_split(dataset, target_varibale, test_spit_size=0.20):\n",
    "    seed = 41\n",
    "    \n",
    "    data_positive_class = dataset[dataset[target_varibale] == 'Yes']\n",
    "    data_negative_class = dataset[dataset[target_varibale] == 'No']\n",
    "    print(\"data_positive_class shape: \", data_positive_class.shape, \"\\ndata_negative_class shape: \", data_negative_class.shape)\n",
    "    \n",
    "    X_data_positive_class = data_positive_class.drop(target_varibale, axis=1)\n",
    "    Y_data_positive_class = data_positive_class[[target_varibale]]\n",
    "    X_data_positive_class_train, X_data_positive_class_test, Y_data_positive_class_train, Y_data_positive_class_test = train_test_split(X_data_positive_class, Y_data_positive_class, test_size=test_spit_size, random_state=seed)\n",
    "\n",
    "    X_data_negative_class = data_negative_class.drop(target_varibale, axis=1)\n",
    "    Y_data_negative_class = data_negative_class[[target_varibale]]\n",
    "    X_data_negative_class_train, X_data_negative_class_test, Y_data_negative_class_train, Y_data_negative_class_test = train_test_split(X_data_negative_class, Y_data_negative_class, test_size=test_spit_size, random_state=seed)\n",
    "\n",
    "\n",
    "    X_train = pd.concat([X_data_positive_class_train, X_data_negative_class_train], axis=0)\n",
    "    y_train = pd.concat([Y_data_positive_class_train, Y_data_negative_class_train], axis=0)\n",
    "    X_test = pd.concat([X_data_positive_class_test, X_data_negative_class_test], axis=0)\n",
    "    y_test = pd.concat([Y_data_positive_class_test, Y_data_negative_class_test], axis=0)\n",
    "\n",
    "    print(X_train.shape[0]+X_test.shape[0], y_train.shape[0]+y_test.shape[0])\n",
    "    \n",
    "    return X_train, X_test, y_train, y_test\n",
    "\n",
    "def column_name_special_char_handling(train, test):\n",
    "    traincol = train.columns\n",
    "    testcol = test.columns\n",
    "\n",
    "    new_train_col = []\n",
    "    for col in traincol:\n",
    "        new_train_col.append(col.replace(\"/\", \"\").replace(\"(\", \"\").replace(\")\", \"\").replace(\"?\", \"\").replace(\" \", \"_\"))\n",
    "    train.columns = new_train_col\n",
    "    \n",
    "    new_test_col = []\n",
    "    for col in testcol:\n",
    "        new_test_col.append(col.replace(\"/\", \"\").replace(\"(\", \"\").replace(\")\", \"\").replace(\"?\", \"\").replace(\" \", \"_\"))\n",
    "    test.columns = new_test_col\n",
    "    \n",
    "    return train, test\n",
    "\n",
    "def train_test_data_for_platform(X_train, X_test, y_train, y_test):\n",
    "    \n",
    "    train_data = pd.concat([X_train, y_train], axis=1)\n",
    "    test_data = pd.concat([X_test, y_test], axis=1)\n",
    "    \n",
    "    #train, test = column_name_special_char_handling(train_data, test_data)\n",
    "    train = train_data\n",
    "    test = test_data\n",
    "    \n",
    "    print(\"train_data shape : \",train.shape, \"\\ntest_data shape : \",test.shape)\n",
    "    \n",
    "    return train, test"
   ]
  },
  {
   "cell_type": "code",
   "execution_count": 403,
   "metadata": {
    "scrolled": false
   },
   "outputs": [
    {
     "name": "stdout",
     "output_type": "stream",
     "text": [
      "data_positive_class shape:  (14245, 96) \n",
      "data_negative_class shape:  (35507, 96)\n",
      "49752 49752\n",
      "train_data shape :  (39801, 96) \n",
      "test_data shape :  (9951, 96)\n"
     ]
    }
   ],
   "source": [
    "target_varibale = 'Churn'\n",
    "\n",
    "X_train, X_test, y_train, y_test = imbalance_data_train_test_split(data, target_varibale, test_spit_size=0.20)\n",
    "_train_data, _test_data = train_test_data_for_platform(X_train, X_test, y_train, y_test)"
   ]
  },
  {
   "cell_type": "code",
   "execution_count": 404,
   "metadata": {
    "scrolled": false
   },
   "outputs": [
    {
     "name": "stdout",
     "output_type": "stream",
     "text": [
      "(11396, 96)\n",
      "(28405, 96)\n",
      "(2849, 96)\n",
      "(7102, 96)\n"
     ]
    }
   ],
   "source": [
    "print(_train_data[_train_data[target_varibale]=='Yes'].shape)\n",
    "print(_train_data[_train_data[target_varibale]=='No'].shape)\n",
    "print(_test_data[_test_data[target_varibale]=='Yes'].shape)\n",
    "print(_test_data[_test_data[target_varibale]=='No'].shape)"
   ]
  },
  {
   "cell_type": "code",
   "execution_count": 405,
   "metadata": {
    "scrolled": false
   },
   "outputs": [],
   "source": [
    "train = _train_data\n",
    "test = _test_data"
   ]
  },
  {
   "cell_type": "code",
   "execution_count": 406,
   "metadata": {
    "scrolled": false
   },
   "outputs": [
    {
     "data": {
      "text/plain": [
       "Index(['CustomerID', 'MonthlyRevenue', 'MonthlyMinutes',\n",
       "       'TotalRecurringCharge', 'DirectorAssistedCalls', 'OverageMinutes',\n",
       "       'RoamingCalls', 'PercChangeMinutes', 'PercChangeRevenues',\n",
       "       'DroppedCalls', 'BlockedCalls', 'UnansweredCalls', 'CustomerCareCalls',\n",
       "       'ThreewayCalls', 'ReceivedCalls', 'OutboundCalls', 'InboundCalls',\n",
       "       'PeakCallsInOut', 'OffPeakCallsInOut', 'DroppedBlockedCalls',\n",
       "       'CallForwardingCalls', 'CallWaitingCalls', 'MonthsInService',\n",
       "       'UniqueSubs', 'ActiveSubs', 'ServiceArea', 'Handsets', 'HandsetModels',\n",
       "       'CurrentEquipmentDays', 'AgeHH1', 'AgeHH2', 'ChildrenInHH',\n",
       "       'HandsetRefurbished', 'HandsetWebCapable', 'TruckOwner', 'RVOwner',\n",
       "       'Homeownership', 'BuysViaMailOrder', 'RespondsToMailOffers',\n",
       "       'OptOutMailings', 'NonUSTravel', 'OwnsComputer', 'HasCreditCard',\n",
       "       'RetentionCalls', 'RetentionOffersAccepted', 'NewCellphoneUser',\n",
       "       'NotNewCellphoneUser', 'ReferralsMadeBySubscriber', 'IncomeGroup',\n",
       "       'OwnsMotorcycle', 'AdjustmentsToCreditRating', 'HandsetPrice',\n",
       "       'MadeCallToRetentionTeam', 'CreditRating', 'PrizmCode', 'Occupation',\n",
       "       'MaritalStatus', 'MonthlyRevenue_quantile_label',\n",
       "       'TotalRecurringCharge_quantile_label',\n",
       "       'PercChangeMinutes_quantile_label', 'PercChangeRevenues_quantile_label',\n",
       "       'UnansweredCalls_quantile_label', 'MonthsInService_quantile_label',\n",
       "       'CurrentEquipmentDays_quantile_label', 'IncomeGroup_quantile_label',\n",
       "       'MonthlyRevenue_log', 'DirectorAssistedCalls_log', 'RoamingCalls_log',\n",
       "       'UnansweredCalls_log', 'CustomerCareCalls_log', 'ThreewayCalls_log',\n",
       "       'BlockedCalls_log', 'CallWaitingCalls_log', 'CallForwardingCalls_log',\n",
       "       'UniqueSubs_log', 'ActiveSubs_log', 'Handsets_log', 'HandsetModels_log',\n",
       "       'RetentionCalls_log', 'MonthsInService_log',\n",
       "       'AdjustmentsToCreditRating_log', 'MadeCallToRetentionTeam_mean_encoded',\n",
       "       'HandsetWebCapable_mean_encoded', 'BuysViaMailOrder_mean_encoded',\n",
       "       'RespondsToMailOffers_mean_encoded', 'OwnsMotorcycle_mean_encoded',\n",
       "       'HandsetPrice_mean_encoded', 'CreditRating_mean_encoded',\n",
       "       'Occupation_mean_encoded', 'MaritalStatus_mean_encoded',\n",
       "       'Handsets_mean_encoded', 'HandsetModels_mean_encoded',\n",
       "       'CurrentEquipmentDays_mean_encoded', 'AgeHH1_mean_encoded',\n",
       "       'AgeHH2_mean_encoded', 'Churn'],\n",
       "      dtype='object')"
      ]
     },
     "execution_count": 406,
     "metadata": {},
     "output_type": "execute_result"
    }
   ],
   "source": [
    "train.columns"
   ]
  },
  {
   "cell_type": "code",
   "execution_count": 417,
   "metadata": {
    "scrolled": false
   },
   "outputs": [
    {
     "name": "stdout",
     "output_type": "stream",
     "text": [
      "Index(['CustomerID', 'MonthlyRevenue', 'MonthlyMinutes',\n",
      "       'TotalRecurringCharge', 'DirectorAssistedCalls', 'OverageMinutes',\n",
      "       'RoamingCalls', 'PercChangeMinutes', 'PercChangeRevenues',\n",
      "       'DroppedCalls', 'BlockedCalls', 'UnansweredCalls', 'CustomerCareCalls',\n",
      "       'ThreewayCalls', 'ReceivedCalls', 'OutboundCalls', 'InboundCalls',\n",
      "       'PeakCallsInOut', 'OffPeakCallsInOut', 'DroppedBlockedCalls',\n",
      "       'CallForwardingCalls', 'CallWaitingCalls', 'MonthsInService',\n",
      "       'UniqueSubs', 'ActiveSubs', 'ServiceArea', 'Handsets', 'HandsetModels',\n",
      "       'CurrentEquipmentDays', 'AgeHH1', 'AgeHH2', 'ChildrenInHH',\n",
      "       'HandsetRefurbished', 'HandsetWebCapable', 'TruckOwner', 'RVOwner',\n",
      "       'Homeownership', 'BuysViaMailOrder', 'RespondsToMailOffers',\n",
      "       'OptOutMailings', 'NonUSTravel', 'OwnsComputer', 'HasCreditCard',\n",
      "       'RetentionCalls', 'RetentionOffersAccepted', 'NewCellphoneUser',\n",
      "       'NotNewCellphoneUser', 'ReferralsMadeBySubscriber', 'IncomeGroup',\n",
      "       'OwnsMotorcycle', 'AdjustmentsToCreditRating', 'HandsetPrice',\n",
      "       'MadeCallToRetentionTeam', 'CreditRating', 'PrizmCode', 'Occupation',\n",
      "       'MaritalStatus', 'MonthlyRevenue_quantile_label',\n",
      "       'TotalRecurringCharge_quantile_label',\n",
      "       'PercChangeMinutes_quantile_label', 'PercChangeRevenues_quantile_label',\n",
      "       'UnansweredCalls_quantile_label', 'MonthsInService_quantile_label',\n",
      "       'CurrentEquipmentDays_quantile_label', 'IncomeGroup_quantile_label',\n",
      "       'MonthlyRevenue_log', 'DirectorAssistedCalls_log', 'RoamingCalls_log',\n",
      "       'UnansweredCalls_log', 'CustomerCareCalls_log', 'ThreewayCalls_log',\n",
      "       'BlockedCalls_log', 'CallWaitingCalls_log', 'CallForwardingCalls_log',\n",
      "       'UniqueSubs_log', 'ActiveSubs_log', 'Handsets_log', 'HandsetModels_log',\n",
      "       'RetentionCalls_log', 'MonthsInService_log',\n",
      "       'AdjustmentsToCreditRating_log', 'MadeCallToRetentionTeam_mean_encoded',\n",
      "       'HandsetWebCapable_mean_encoded', 'BuysViaMailOrder_mean_encoded',\n",
      "       'RespondsToMailOffers_mean_encoded', 'OwnsMotorcycle_mean_encoded',\n",
      "       'HandsetPrice_mean_encoded', 'CreditRating_mean_encoded',\n",
      "       'Occupation_mean_encoded', 'MaritalStatus_mean_encoded',\n",
      "       'Handsets_mean_encoded', 'HandsetModels_mean_encoded',\n",
      "       'CurrentEquipmentDays_mean_encoded', 'AgeHH1_mean_encoded',\n",
      "       'AgeHH2_mean_encoded', 'Churn'],\n",
      "      dtype='object')\n"
     ]
    }
   ],
   "source": [
    "print(train.columns)\n",
    "\n",
    "boost_col = ['Churn', 'MadeCallToRetentionTeam' , 'HandsetWebCapable', 'BuysViaMailOrder' , 'RespondsToMailOffers', 'OwnsMotorcycle',\n",
    "            'HandsetPrice', 'CreditRating', 'Occupation', 'MaritalStatus', \"Handsets\",\n",
    "            \"HandsetModels\", \"CurrentEquipmentDays\", \"AgeHH1\", \"AgeHH2\",\n",
    "             \n",
    "            'MonthlyRevenue_quantile_label', 'TotalRecurringCharge_quantile_label',\n",
    "            'PercChangeMinutes_quantile_label', 'PercChangeRevenues_quantile_label',\n",
    "            'UnansweredCalls_quantile_label', 'MonthsInService_quantile_label',\n",
    "            'CurrentEquipmentDays_quantile_label', 'IncomeGroup_quantile_label',\n",
    "             \n",
    "            'MonthlyRevenue_log', 'DirectorAssistedCalls_log', 'RoamingCalls_log',\n",
    "            'UnansweredCalls_log', 'CustomerCareCalls_log', 'ThreewayCalls_log',\n",
    "            'BlockedCalls_log', 'CallWaitingCalls_log', 'CallForwardingCalls_log',\n",
    "            'UniqueSubs_log', 'ActiveSubs_log', 'Handsets_log', 'HandsetModels_log',\n",
    "            'RetentionCalls_log', 'MonthsInService_log',\n",
    "            'AdjustmentsToCreditRating_log',\n",
    "             \n",
    "            'MadeCallToRetentionTeam_mean_encoded',\n",
    "            'HandsetWebCapable_mean_encoded', 'BuysViaMailOrder_mean_encoded',\n",
    "            'RespondsToMailOffers_mean_encoded', 'OwnsMotorcycle_mean_encoded',\n",
    "            'HandsetPrice_mean_encoded', 'CreditRating_mean_encoded',\n",
    "            'Occupation_mean_encoded', 'MaritalStatus_mean_encoded',\n",
    "            'Handsets_mean_encoded', 'HandsetModels_mean_encoded',\n",
    "            'CurrentEquipmentDays_mean_encoded', 'AgeHH1_mean_encoded',\n",
    "            'AgeHH2_mean_encoded'\n",
    "             \n",
    "           ]\n",
    "\n",
    "target_flag = target_varibale"
   ]
  },
  {
   "cell_type": "code",
   "execution_count": 418,
   "metadata": {
    "scrolled": false
   },
   "outputs": [],
   "source": [
    "for i,col in enumerate(boost_col):\n",
    "    data_type = str(train[col].dtypes)\n",
    "    #print(\"\\n===============>\",col, data_type)\n",
    "    if(( data_type == \"object\") or (data_type == \"category\")):\n",
    "        le = LabelEncoder()\n",
    "        train[col] = le.fit_transform(train[col].astype(str))\n",
    "        #print(le.classes_)\n",
    "\n",
    "        test[col] = test[col].map(lambda s: '<unknown>' if s not in le.classes_ else s)\n",
    "        le.classes_ = np.append(le.classes_, '<unknown>')\n",
    "\n",
    "        test[col] = le.transform(test[col])"
   ]
  },
  {
   "cell_type": "code",
   "execution_count": 419,
   "metadata": {
    "scrolled": false
   },
   "outputs": [
    {
     "name": "stdout",
     "output_type": "stream",
     "text": [
      "(39801, 96)\n"
     ]
    },
    {
     "data": {
      "text/html": [
       "<div>\n",
       "<style scoped>\n",
       "    .dataframe tbody tr th:only-of-type {\n",
       "        vertical-align: middle;\n",
       "    }\n",
       "\n",
       "    .dataframe tbody tr th {\n",
       "        vertical-align: top;\n",
       "    }\n",
       "\n",
       "    .dataframe thead th {\n",
       "        text-align: right;\n",
       "    }\n",
       "</style>\n",
       "<table border=\"1\" class=\"dataframe\">\n",
       "  <thead>\n",
       "    <tr style=\"text-align: right;\">\n",
       "      <th></th>\n",
       "      <th>CustomerID</th>\n",
       "      <th>MonthlyRevenue</th>\n",
       "      <th>MonthlyMinutes</th>\n",
       "      <th>TotalRecurringCharge</th>\n",
       "      <th>DirectorAssistedCalls</th>\n",
       "      <th>OverageMinutes</th>\n",
       "      <th>RoamingCalls</th>\n",
       "      <th>PercChangeMinutes</th>\n",
       "      <th>PercChangeRevenues</th>\n",
       "      <th>DroppedCalls</th>\n",
       "      <th>...</th>\n",
       "      <th>HandsetPrice_mean_encoded</th>\n",
       "      <th>CreditRating_mean_encoded</th>\n",
       "      <th>Occupation_mean_encoded</th>\n",
       "      <th>MaritalStatus_mean_encoded</th>\n",
       "      <th>Handsets_mean_encoded</th>\n",
       "      <th>HandsetModels_mean_encoded</th>\n",
       "      <th>CurrentEquipmentDays_mean_encoded</th>\n",
       "      <th>AgeHH1_mean_encoded</th>\n",
       "      <th>AgeHH2_mean_encoded</th>\n",
       "      <th>Churn</th>\n",
       "    </tr>\n",
       "  </thead>\n",
       "  <tbody>\n",
       "    <tr>\n",
       "      <th>23555</th>\n",
       "      <td>3188958</td>\n",
       "      <td>60.70</td>\n",
       "      <td>1027.0</td>\n",
       "      <td>63.0</td>\n",
       "      <td>1.49</td>\n",
       "      <td>0.0</td>\n",
       "      <td>0.0</td>\n",
       "      <td>-596.0</td>\n",
       "      <td>-63.5</td>\n",
       "      <td>6.3</td>\n",
       "      <td>...</td>\n",
       "      <td>1.0</td>\n",
       "      <td>1.0</td>\n",
       "      <td>1.0</td>\n",
       "      <td>1.0</td>\n",
       "      <td>1.0</td>\n",
       "      <td>1.0</td>\n",
       "      <td>1.0</td>\n",
       "      <td>1.0</td>\n",
       "      <td>1.0</td>\n",
       "      <td>1</td>\n",
       "    </tr>\n",
       "    <tr>\n",
       "      <th>31936</th>\n",
       "      <td>3259114</td>\n",
       "      <td>111.19</td>\n",
       "      <td>1509.0</td>\n",
       "      <td>54.0</td>\n",
       "      <td>4.46</td>\n",
       "      <td>141.0</td>\n",
       "      <td>0.0</td>\n",
       "      <td>361.0</td>\n",
       "      <td>111.5</td>\n",
       "      <td>10.7</td>\n",
       "      <td>...</td>\n",
       "      <td>1.0</td>\n",
       "      <td>1.0</td>\n",
       "      <td>1.0</td>\n",
       "      <td>1.0</td>\n",
       "      <td>1.0</td>\n",
       "      <td>1.0</td>\n",
       "      <td>1.0</td>\n",
       "      <td>1.0</td>\n",
       "      <td>1.0</td>\n",
       "      <td>1</td>\n",
       "    </tr>\n",
       "    <tr>\n",
       "      <th>22032</th>\n",
       "      <td>3176510</td>\n",
       "      <td>48.88</td>\n",
       "      <td>1033.0</td>\n",
       "      <td>45.0</td>\n",
       "      <td>0.50</td>\n",
       "      <td>34.0</td>\n",
       "      <td>0.0</td>\n",
       "      <td>-95.0</td>\n",
       "      <td>30.5</td>\n",
       "      <td>6.7</td>\n",
       "      <td>...</td>\n",
       "      <td>1.0</td>\n",
       "      <td>1.0</td>\n",
       "      <td>1.0</td>\n",
       "      <td>1.0</td>\n",
       "      <td>1.0</td>\n",
       "      <td>1.0</td>\n",
       "      <td>1.0</td>\n",
       "      <td>1.0</td>\n",
       "      <td>1.0</td>\n",
       "      <td>1</td>\n",
       "    </tr>\n",
       "  </tbody>\n",
       "</table>\n",
       "<p>3 rows × 96 columns</p>\n",
       "</div>"
      ],
      "text/plain": [
       "       CustomerID  MonthlyRevenue  MonthlyMinutes  TotalRecurringCharge  \\\n",
       "23555     3188958           60.70          1027.0                  63.0   \n",
       "31936     3259114          111.19          1509.0                  54.0   \n",
       "22032     3176510           48.88          1033.0                  45.0   \n",
       "\n",
       "       DirectorAssistedCalls  OverageMinutes  RoamingCalls  PercChangeMinutes  \\\n",
       "23555                   1.49             0.0           0.0             -596.0   \n",
       "31936                   4.46           141.0           0.0              361.0   \n",
       "22032                   0.50            34.0           0.0              -95.0   \n",
       "\n",
       "       PercChangeRevenues  DroppedCalls  ...  HandsetPrice_mean_encoded  \\\n",
       "23555               -63.5           6.3  ...                        1.0   \n",
       "31936               111.5          10.7  ...                        1.0   \n",
       "22032                30.5           6.7  ...                        1.0   \n",
       "\n",
       "       CreditRating_mean_encoded  Occupation_mean_encoded  \\\n",
       "23555                        1.0                      1.0   \n",
       "31936                        1.0                      1.0   \n",
       "22032                        1.0                      1.0   \n",
       "\n",
       "       MaritalStatus_mean_encoded  Handsets_mean_encoded  \\\n",
       "23555                         1.0                    1.0   \n",
       "31936                         1.0                    1.0   \n",
       "22032                         1.0                    1.0   \n",
       "\n",
       "       HandsetModels_mean_encoded  CurrentEquipmentDays_mean_encoded  \\\n",
       "23555                         1.0                                1.0   \n",
       "31936                         1.0                                1.0   \n",
       "22032                         1.0                                1.0   \n",
       "\n",
       "       AgeHH1_mean_encoded  AgeHH2_mean_encoded  Churn  \n",
       "23555                  1.0                  1.0      1  \n",
       "31936                  1.0                  1.0      1  \n",
       "22032                  1.0                  1.0      1  \n",
       "\n",
       "[3 rows x 96 columns]"
      ]
     },
     "execution_count": 419,
     "metadata": {},
     "output_type": "execute_result"
    }
   ],
   "source": [
    "print(train.shape)\n",
    "train.head(3)"
   ]
  },
  {
   "cell_type": "code",
   "execution_count": 420,
   "metadata": {
    "scrolled": false
   },
   "outputs": [
    {
     "name": "stdout",
     "output_type": "stream",
     "text": [
      "(9951, 96)\n"
     ]
    },
    {
     "data": {
      "text/html": [
       "<div>\n",
       "<style scoped>\n",
       "    .dataframe tbody tr th:only-of-type {\n",
       "        vertical-align: middle;\n",
       "    }\n",
       "\n",
       "    .dataframe tbody tr th {\n",
       "        vertical-align: top;\n",
       "    }\n",
       "\n",
       "    .dataframe thead th {\n",
       "        text-align: right;\n",
       "    }\n",
       "</style>\n",
       "<table border=\"1\" class=\"dataframe\">\n",
       "  <thead>\n",
       "    <tr style=\"text-align: right;\">\n",
       "      <th></th>\n",
       "      <th>CustomerID</th>\n",
       "      <th>MonthlyRevenue</th>\n",
       "      <th>MonthlyMinutes</th>\n",
       "      <th>TotalRecurringCharge</th>\n",
       "      <th>DirectorAssistedCalls</th>\n",
       "      <th>OverageMinutes</th>\n",
       "      <th>RoamingCalls</th>\n",
       "      <th>PercChangeMinutes</th>\n",
       "      <th>PercChangeRevenues</th>\n",
       "      <th>DroppedCalls</th>\n",
       "      <th>...</th>\n",
       "      <th>HandsetPrice_mean_encoded</th>\n",
       "      <th>CreditRating_mean_encoded</th>\n",
       "      <th>Occupation_mean_encoded</th>\n",
       "      <th>MaritalStatus_mean_encoded</th>\n",
       "      <th>Handsets_mean_encoded</th>\n",
       "      <th>HandsetModels_mean_encoded</th>\n",
       "      <th>CurrentEquipmentDays_mean_encoded</th>\n",
       "      <th>AgeHH1_mean_encoded</th>\n",
       "      <th>AgeHH2_mean_encoded</th>\n",
       "      <th>Churn</th>\n",
       "    </tr>\n",
       "  </thead>\n",
       "  <tbody>\n",
       "    <tr>\n",
       "      <th>37124</th>\n",
       "      <td>3302050</td>\n",
       "      <td>19.99</td>\n",
       "      <td>0.0</td>\n",
       "      <td>30.0</td>\n",
       "      <td>0.00</td>\n",
       "      <td>0.0</td>\n",
       "      <td>0.0</td>\n",
       "      <td>0.0</td>\n",
       "      <td>0.0</td>\n",
       "      <td>0.0</td>\n",
       "      <td>...</td>\n",
       "      <td>1.0</td>\n",
       "      <td>1.0</td>\n",
       "      <td>1.0</td>\n",
       "      <td>1.0</td>\n",
       "      <td>1.0</td>\n",
       "      <td>1.0</td>\n",
       "      <td>1.0</td>\n",
       "      <td>1.0</td>\n",
       "      <td>1.0</td>\n",
       "      <td>1</td>\n",
       "    </tr>\n",
       "    <tr>\n",
       "      <th>16828</th>\n",
       "      <td>3134386</td>\n",
       "      <td>35.24</td>\n",
       "      <td>458.0</td>\n",
       "      <td>45.0</td>\n",
       "      <td>0.25</td>\n",
       "      <td>0.0</td>\n",
       "      <td>0.0</td>\n",
       "      <td>-185.0</td>\n",
       "      <td>-0.2</td>\n",
       "      <td>0.0</td>\n",
       "      <td>...</td>\n",
       "      <td>1.0</td>\n",
       "      <td>1.0</td>\n",
       "      <td>1.0</td>\n",
       "      <td>1.0</td>\n",
       "      <td>1.0</td>\n",
       "      <td>1.0</td>\n",
       "      <td>1.0</td>\n",
       "      <td>1.0</td>\n",
       "      <td>1.0</td>\n",
       "      <td>1</td>\n",
       "    </tr>\n",
       "    <tr>\n",
       "      <th>23499</th>\n",
       "      <td>3188542</td>\n",
       "      <td>53.44</td>\n",
       "      <td>9.0</td>\n",
       "      <td>60.0</td>\n",
       "      <td>0.00</td>\n",
       "      <td>0.0</td>\n",
       "      <td>0.0</td>\n",
       "      <td>-9.0</td>\n",
       "      <td>-0.4</td>\n",
       "      <td>0.3</td>\n",
       "      <td>...</td>\n",
       "      <td>1.0</td>\n",
       "      <td>1.0</td>\n",
       "      <td>1.0</td>\n",
       "      <td>1.0</td>\n",
       "      <td>1.0</td>\n",
       "      <td>1.0</td>\n",
       "      <td>1.0</td>\n",
       "      <td>1.0</td>\n",
       "      <td>1.0</td>\n",
       "      <td>1</td>\n",
       "    </tr>\n",
       "  </tbody>\n",
       "</table>\n",
       "<p>3 rows × 96 columns</p>\n",
       "</div>"
      ],
      "text/plain": [
       "       CustomerID  MonthlyRevenue  MonthlyMinutes  TotalRecurringCharge  \\\n",
       "37124     3302050           19.99             0.0                  30.0   \n",
       "16828     3134386           35.24           458.0                  45.0   \n",
       "23499     3188542           53.44             9.0                  60.0   \n",
       "\n",
       "       DirectorAssistedCalls  OverageMinutes  RoamingCalls  PercChangeMinutes  \\\n",
       "37124                   0.00             0.0           0.0                0.0   \n",
       "16828                   0.25             0.0           0.0             -185.0   \n",
       "23499                   0.00             0.0           0.0               -9.0   \n",
       "\n",
       "       PercChangeRevenues  DroppedCalls  ...  HandsetPrice_mean_encoded  \\\n",
       "37124                 0.0           0.0  ...                        1.0   \n",
       "16828                -0.2           0.0  ...                        1.0   \n",
       "23499                -0.4           0.3  ...                        1.0   \n",
       "\n",
       "       CreditRating_mean_encoded  Occupation_mean_encoded  \\\n",
       "37124                        1.0                      1.0   \n",
       "16828                        1.0                      1.0   \n",
       "23499                        1.0                      1.0   \n",
       "\n",
       "       MaritalStatus_mean_encoded  Handsets_mean_encoded  \\\n",
       "37124                         1.0                    1.0   \n",
       "16828                         1.0                    1.0   \n",
       "23499                         1.0                    1.0   \n",
       "\n",
       "       HandsetModels_mean_encoded  CurrentEquipmentDays_mean_encoded  \\\n",
       "37124                         1.0                                1.0   \n",
       "16828                         1.0                                1.0   \n",
       "23499                         1.0                                1.0   \n",
       "\n",
       "       AgeHH1_mean_encoded  AgeHH2_mean_encoded  Churn  \n",
       "37124                  1.0                  1.0      1  \n",
       "16828                  1.0                  1.0      1  \n",
       "23499                  1.0                  1.0      1  \n",
       "\n",
       "[3 rows x 96 columns]"
      ]
     },
     "execution_count": 420,
     "metadata": {},
     "output_type": "execute_result"
    }
   ],
   "source": [
    "print(test.shape)\n",
    "test.head(3)"
   ]
  },
  {
   "cell_type": "code",
   "execution_count": 421,
   "metadata": {
    "scrolled": false
   },
   "outputs": [],
   "source": [
    "X_train = train[boost_col]\n",
    "y_train = train[target_flag]\n",
    "\n",
    "X_test = test[boost_col]\n",
    "y_test = test[target_flag]"
   ]
  },
  {
   "cell_type": "markdown",
   "metadata": {},
   "source": [
    "## Metrices"
   ]
  },
  {
   "cell_type": "code",
   "execution_count": 422,
   "metadata": {
    "scrolled": false
   },
   "outputs": [],
   "source": [
    "from sklearn.metrics import confusion_matrix, roc_curve, roc_auc_score, f1_score, precision_recall_curve, accuracy_score, precision_score, recall_score, cohen_kappa_score, average_precision_score\n",
    "def metrices(_type, rf_y_train, rf_y_train_pred, rf_y_train_pred_score):\n",
    "    print(_type+\" Accuracy:\",accuracy_score(rf_y_train, rf_y_train_pred))\n",
    "    print(_type+\" f1_score:\",f1_score(rf_y_train, rf_y_train_pred))\n",
    "    print(_type+\" precision_score:\",precision_score(rf_y_train, rf_y_train_pred))\n",
    "    print(_type+\" recall_score:\",recall_score(rf_y_train, rf_y_train_pred)) \n",
    "    print(_type+\" Cohens kappa:\",cohen_kappa_score(rf_y_train, rf_y_train_pred))\n",
    "    print(_type+\" ROC AUC:\",roc_auc_score(rf_y_train, rf_y_train_pred))\n",
    "    print(_type+\" confusion_matrix:\\n\",confusion_matrix(rf_y_train, rf_y_train_pred))\n",
    "    print(_type+\" Average precision-recall score: {0:0.2f}\".format(average_precision_score(rf_y_train, rf_y_train_pred_score)))"
   ]
  },
  {
   "cell_type": "code",
   "execution_count": 423,
   "metadata": {},
   "outputs": [
    {
     "data": {
      "text/plain": [
       "\"\\nmodified_predictors = num_cols\\n#, 'N_Proportion', 'Y_Proportion'\\nmodified_numeric_col = num_cols #list(set(modified_predictors))\\nmodified_chi_square_splits = ChiSquareSplits(data, modified_numeric_col)\\nmodified_splits = modified_chi_square_splits.get_splits()\\nmodified_splits.head()\\n\""
      ]
     },
     "execution_count": 423,
     "metadata": {},
     "output_type": "execute_result"
    }
   ],
   "source": [
    "\"\"\"\n",
    "modified_predictors = num_cols\n",
    "#, 'N_Proportion', 'Y_Proportion'\n",
    "modified_numeric_col = num_cols #list(set(modified_predictors))\n",
    "modified_chi_square_splits = ChiSquareSplits(data, modified_numeric_col)\n",
    "modified_splits = modified_chi_square_splits.get_splits()\n",
    "modified_splits.head()\n",
    "\"\"\""
   ]
  },
  {
   "cell_type": "code",
   "execution_count": 424,
   "metadata": {},
   "outputs": [
    {
     "name": "stdout",
     "output_type": "stream",
     "text": [
      "11396\n",
      "28405\n",
      "39801 39801\n",
      "39801 39801\n",
      "2.4925412425412428\n"
     ]
    }
   ],
   "source": [
    "print(sum(y_train == 1))\n",
    "print(sum(y_train == 0))\n",
    "print(len(y_train), sum(y_train == 1)+sum(y_train == 0))\n",
    "print(len(y_train), sum(y_train == 1)+sum(y_train == 0))\n",
    "cal_scale_pos_weight = sum(y_train == 0)/sum(y_train == 1)\n",
    "print(cal_scale_pos_weight)"
   ]
  },
  {
   "cell_type": "code",
   "execution_count": null,
   "metadata": {},
   "outputs": [],
   "source": []
  },
  {
   "cell_type": "markdown",
   "metadata": {},
   "source": [
    "## XGBClassifier"
   ]
  },
  {
   "cell_type": "code",
   "execution_count": 427,
   "metadata": {
    "scrolled": false
   },
   "outputs": [
    {
     "name": "stdout",
     "output_type": "stream",
     "text": [
      "Train Accuracy: 0.7777442777819653\n",
      "Train f1_score: 0.6487173377809546\n",
      "Train precision_score: 0.5924851298418685\n",
      "Train recall_score: 0.7167427167427167\n",
      "Train Cohens kappa: 0.4882996668290899\n",
      "Train ROC AUC: 0.7594803180615538\n",
      "Train confusion_matrix:\n",
      " [[22787  5618]\n",
      " [ 3228  8168]]\n",
      "Train Average precision-recall score: 0.71\n",
      "\n",
      "\n",
      "\n",
      "Test Accuracy: 0.6529996985227615\n",
      "Test f1_score: 0.44189429448844353\n",
      "Test precision_score: 0.40952666267225885\n",
      "Test recall_score: 0.4798174798174798\n",
      "Test Cohens kappa: 0.19240197285288363\n",
      "Test ROC AUC: 0.6011450113815644\n",
      "Test confusion_matrix:\n",
      " [[5131 1971]\n",
      " [1482 1367]]\n",
      "Test Average precision-recall score: 0.41\n"
     ]
    },
    {
     "data": {
      "text/html": [
       "<div>\n",
       "<style scoped>\n",
       "    .dataframe tbody tr th:only-of-type {\n",
       "        vertical-align: middle;\n",
       "    }\n",
       "\n",
       "    .dataframe tbody tr th {\n",
       "        vertical-align: top;\n",
       "    }\n",
       "\n",
       "    .dataframe thead th {\n",
       "        text-align: right;\n",
       "    }\n",
       "</style>\n",
       "<table border=\"1\" class=\"dataframe\">\n",
       "  <thead>\n",
       "    <tr style=\"text-align: right;\">\n",
       "      <th></th>\n",
       "      <th>Feature</th>\n",
       "      <th>Score</th>\n",
       "    </tr>\n",
       "  </thead>\n",
       "  <tbody>\n",
       "    <tr>\n",
       "      <th>20</th>\n",
       "      <td>CurrentEquipmentDays_quantile_label</td>\n",
       "      <td>7.060602</td>\n",
       "    </tr>\n",
       "    <tr>\n",
       "      <th>0</th>\n",
       "      <td>MadeCallToRetentionTeam</td>\n",
       "      <td>5.440672</td>\n",
       "    </tr>\n",
       "    <tr>\n",
       "      <th>36</th>\n",
       "      <td>MonthsInService_log</td>\n",
       "      <td>4.493007</td>\n",
       "    </tr>\n",
       "    <tr>\n",
       "      <th>35</th>\n",
       "      <td>RetentionCalls_log</td>\n",
       "      <td>4.255929</td>\n",
       "    </tr>\n",
       "    <tr>\n",
       "      <th>11</th>\n",
       "      <td>CurrentEquipmentDays</td>\n",
       "      <td>3.766349</td>\n",
       "    </tr>\n",
       "    <tr>\n",
       "      <th>15</th>\n",
       "      <td>TotalRecurringCharge_quantile_label</td>\n",
       "      <td>3.558258</td>\n",
       "    </tr>\n",
       "    <tr>\n",
       "      <th>1</th>\n",
       "      <td>HandsetWebCapable</td>\n",
       "      <td>3.413870</td>\n",
       "    </tr>\n",
       "    <tr>\n",
       "      <th>14</th>\n",
       "      <td>MonthlyRevenue_quantile_label</td>\n",
       "      <td>2.989133</td>\n",
       "    </tr>\n",
       "    <tr>\n",
       "      <th>31</th>\n",
       "      <td>UniqueSubs_log</td>\n",
       "      <td>2.691492</td>\n",
       "    </tr>\n",
       "    <tr>\n",
       "      <th>6</th>\n",
       "      <td>CreditRating</td>\n",
       "      <td>2.607093</td>\n",
       "    </tr>\n",
       "    <tr>\n",
       "      <th>16</th>\n",
       "      <td>PercChangeMinutes_quantile_label</td>\n",
       "      <td>2.599787</td>\n",
       "    </tr>\n",
       "    <tr>\n",
       "      <th>17</th>\n",
       "      <td>PercChangeRevenues_quantile_label</td>\n",
       "      <td>2.546618</td>\n",
       "    </tr>\n",
       "    <tr>\n",
       "      <th>19</th>\n",
       "      <td>MonthsInService_quantile_label</td>\n",
       "      <td>2.503170</td>\n",
       "    </tr>\n",
       "    <tr>\n",
       "      <th>10</th>\n",
       "      <td>HandsetModels</td>\n",
       "      <td>2.484047</td>\n",
       "    </tr>\n",
       "    <tr>\n",
       "      <th>32</th>\n",
       "      <td>ActiveSubs_log</td>\n",
       "      <td>2.368877</td>\n",
       "    </tr>\n",
       "    <tr>\n",
       "      <th>4</th>\n",
       "      <td>OwnsMotorcycle</td>\n",
       "      <td>2.347706</td>\n",
       "    </tr>\n",
       "    <tr>\n",
       "      <th>22</th>\n",
       "      <td>MonthlyRevenue_log</td>\n",
       "      <td>2.246690</td>\n",
       "    </tr>\n",
       "    <tr>\n",
       "      <th>8</th>\n",
       "      <td>MaritalStatus</td>\n",
       "      <td>2.217160</td>\n",
       "    </tr>\n",
       "    <tr>\n",
       "      <th>26</th>\n",
       "      <td>CustomerCareCalls_log</td>\n",
       "      <td>2.206344</td>\n",
       "    </tr>\n",
       "    <tr>\n",
       "      <th>7</th>\n",
       "      <td>Occupation</td>\n",
       "      <td>2.203673</td>\n",
       "    </tr>\n",
       "    <tr>\n",
       "      <th>37</th>\n",
       "      <td>AdjustmentsToCreditRating_log</td>\n",
       "      <td>2.189615</td>\n",
       "    </tr>\n",
       "    <tr>\n",
       "      <th>24</th>\n",
       "      <td>RoamingCalls_log</td>\n",
       "      <td>2.171340</td>\n",
       "    </tr>\n",
       "    <tr>\n",
       "      <th>25</th>\n",
       "      <td>UnansweredCalls_log</td>\n",
       "      <td>2.160891</td>\n",
       "    </tr>\n",
       "    <tr>\n",
       "      <th>12</th>\n",
       "      <td>AgeHH1</td>\n",
       "      <td>2.157777</td>\n",
       "    </tr>\n",
       "    <tr>\n",
       "      <th>13</th>\n",
       "      <td>AgeHH2</td>\n",
       "      <td>2.088323</td>\n",
       "    </tr>\n",
       "    <tr>\n",
       "      <th>27</th>\n",
       "      <td>ThreewayCalls_log</td>\n",
       "      <td>2.082220</td>\n",
       "    </tr>\n",
       "    <tr>\n",
       "      <th>5</th>\n",
       "      <td>HandsetPrice</td>\n",
       "      <td>2.079390</td>\n",
       "    </tr>\n",
       "    <tr>\n",
       "      <th>9</th>\n",
       "      <td>Handsets</td>\n",
       "      <td>2.073077</td>\n",
       "    </tr>\n",
       "    <tr>\n",
       "      <th>28</th>\n",
       "      <td>BlockedCalls_log</td>\n",
       "      <td>2.064291</td>\n",
       "    </tr>\n",
       "    <tr>\n",
       "      <th>3</th>\n",
       "      <td>RespondsToMailOffers</td>\n",
       "      <td>2.023916</td>\n",
       "    </tr>\n",
       "    <tr>\n",
       "      <th>29</th>\n",
       "      <td>CallWaitingCalls_log</td>\n",
       "      <td>2.019102</td>\n",
       "    </tr>\n",
       "    <tr>\n",
       "      <th>21</th>\n",
       "      <td>IncomeGroup_quantile_label</td>\n",
       "      <td>2.018148</td>\n",
       "    </tr>\n",
       "    <tr>\n",
       "      <th>2</th>\n",
       "      <td>BuysViaMailOrder</td>\n",
       "      <td>1.974962</td>\n",
       "    </tr>\n",
       "    <tr>\n",
       "      <th>23</th>\n",
       "      <td>DirectorAssistedCalls_log</td>\n",
       "      <td>1.962371</td>\n",
       "    </tr>\n",
       "    <tr>\n",
       "      <th>34</th>\n",
       "      <td>HandsetModels_log</td>\n",
       "      <td>1.838879</td>\n",
       "    </tr>\n",
       "    <tr>\n",
       "      <th>33</th>\n",
       "      <td>Handsets_log</td>\n",
       "      <td>1.709263</td>\n",
       "    </tr>\n",
       "    <tr>\n",
       "      <th>18</th>\n",
       "      <td>UnansweredCalls_quantile_label</td>\n",
       "      <td>1.702634</td>\n",
       "    </tr>\n",
       "    <tr>\n",
       "      <th>30</th>\n",
       "      <td>CallForwardingCalls_log</td>\n",
       "      <td>1.683325</td>\n",
       "    </tr>\n",
       "  </tbody>\n",
       "</table>\n",
       "</div>"
      ],
      "text/plain": [
       "                                Feature     Score\n",
       "20  CurrentEquipmentDays_quantile_label  7.060602\n",
       "0               MadeCallToRetentionTeam  5.440672\n",
       "36                  MonthsInService_log  4.493007\n",
       "35                   RetentionCalls_log  4.255929\n",
       "11                 CurrentEquipmentDays  3.766349\n",
       "15  TotalRecurringCharge_quantile_label  3.558258\n",
       "1                     HandsetWebCapable  3.413870\n",
       "14        MonthlyRevenue_quantile_label  2.989133\n",
       "31                       UniqueSubs_log  2.691492\n",
       "6                          CreditRating  2.607093\n",
       "16     PercChangeMinutes_quantile_label  2.599787\n",
       "17    PercChangeRevenues_quantile_label  2.546618\n",
       "19       MonthsInService_quantile_label  2.503170\n",
       "10                        HandsetModels  2.484047\n",
       "32                       ActiveSubs_log  2.368877\n",
       "4                        OwnsMotorcycle  2.347706\n",
       "22                   MonthlyRevenue_log  2.246690\n",
       "8                         MaritalStatus  2.217160\n",
       "26                CustomerCareCalls_log  2.206344\n",
       "7                            Occupation  2.203673\n",
       "37        AdjustmentsToCreditRating_log  2.189615\n",
       "24                     RoamingCalls_log  2.171340\n",
       "25                  UnansweredCalls_log  2.160891\n",
       "12                               AgeHH1  2.157777\n",
       "13                               AgeHH2  2.088323\n",
       "27                    ThreewayCalls_log  2.082220\n",
       "5                          HandsetPrice  2.079390\n",
       "9                              Handsets  2.073077\n",
       "28                     BlockedCalls_log  2.064291\n",
       "3                  RespondsToMailOffers  2.023916\n",
       "29                 CallWaitingCalls_log  2.019102\n",
       "21           IncomeGroup_quantile_label  2.018148\n",
       "2                      BuysViaMailOrder  1.974962\n",
       "23            DirectorAssistedCalls_log  1.962371\n",
       "34                    HandsetModels_log  1.838879\n",
       "33                         Handsets_log  1.709263\n",
       "18       UnansweredCalls_quantile_label  1.702634\n",
       "30              CallForwardingCalls_log  1.683325"
      ]
     },
     "execution_count": 427,
     "metadata": {},
     "output_type": "execute_result"
    }
   ],
   "source": [
    "xgb_predictors = [\n",
    "            'MadeCallToRetentionTeam' , 'HandsetWebCapable', 'BuysViaMailOrder' , 'RespondsToMailOffers', 'OwnsMotorcycle',\n",
    "            'HandsetPrice', 'CreditRating', 'Occupation', 'MaritalStatus', \n",
    "            \"Handsets\", \"HandsetModels\", \"CurrentEquipmentDays\", \"AgeHH1\", \"AgeHH2\",\n",
    "                  \n",
    "            'MonthlyRevenue_quantile_label', 'TotalRecurringCharge_quantile_label',\n",
    "            'PercChangeMinutes_quantile_label', 'PercChangeRevenues_quantile_label',\n",
    "            'UnansweredCalls_quantile_label', 'MonthsInService_quantile_label',\n",
    "            'CurrentEquipmentDays_quantile_label', 'IncomeGroup_quantile_label',\n",
    "                  \n",
    "            'MonthlyRevenue_log', 'DirectorAssistedCalls_log', 'RoamingCalls_log',\n",
    "            'UnansweredCalls_log', 'CustomerCareCalls_log', 'ThreewayCalls_log',\n",
    "            'BlockedCalls_log', 'CallWaitingCalls_log', 'CallForwardingCalls_log',\n",
    "            'UniqueSubs_log', 'ActiveSubs_log', 'Handsets_log', 'HandsetModels_log',\n",
    "            'RetentionCalls_log', 'MonthsInService_log',\n",
    "            'AdjustmentsToCreditRating_log',\n",
    "            \n",
    "            \n",
    "            #'MadeCallToRetentionTeam_mean_encoded', 'HandsetWebCapable_mean_encoded', 'BuysViaMailOrder_mean_encoded',\n",
    "            #'RespondsToMailOffers_mean_encoded', 'OwnsMotorcycle_mean_encoded', 'HandsetPrice_mean_encoded', \n",
    "            #'CreditRating_mean_encoded', 'Occupation_mean_encoded', 'MaritalStatus_mean_encoded', 'Handsets_mean_encoded', \n",
    "            #'HandsetModels_mean_encoded', 'CurrentEquipmentDays_mean_encoded', 'AgeHH1_mean_encoded', 'AgeHH2_mean_encoded'\n",
    "            \n",
    "           ]\n",
    "\n",
    "xgb_X_train = X_train[xgb_predictors]\n",
    "xgb_y_train = y_train\n",
    "\n",
    "xgb_X_test = X_test[xgb_predictors]\n",
    "xgb_y_test = y_test\n",
    "\n",
    "\n",
    "param_test1 = {\n",
    "    'max_depth':[5,7,9],\n",
    "    'min_child_weight':range(1,6,2),\n",
    "    \"max_depth\": [5,7,9],\n",
    "    \"min_samples_split\" : [8, 10, 12],\n",
    "    #\"max_features\": np.arange(1, 9),\n",
    "    #\"min_samples_leaf\": np.arange(1, 9),\n",
    "    \"criterion\": [\"gini\", \"entropy\"]\n",
    "}\n",
    "gsearch1 = GridSearchCV(estimator = XGBClassifier( learning_rate =0.05, n_estimators=140, max_depth=5,\n",
    " min_child_weight=1, gamma=0, subsample=0.1, colsample_bytree=0.8, #eval_metric = 'aucpr',\n",
    " objective= 'binary:logistic', nthread=4, scale_pos_weight=1, seed=27), \n",
    " param_grid = param_test1, scoring='roc_auc',n_jobs=4,iid=False, cv=5)\n",
    "#gsearch1.fit(xgb_X_train, xgb_y_train)\n",
    "\n",
    "\n",
    "#gsearch1.grid_scores_, gsearch1.best_params_, gsearch1.best_score_\n",
    "\n",
    "#xgb_model = gsearch1.best_estimator_  #'reg:logistic' 'binary:logistic'\n",
    "\n",
    "xgb_modelfit = XGBClassifier(learning_rate =0.08, n_estimators=200, max_depth=7,\n",
    " min_child_weight=5, gamma=0, subsample=0.9, colsample_bytree=0.8, eval_metric = 'aucpr', #'aucpr',\n",
    " objective= 'reg:logistic', nthread=4, scale_pos_weight=2.1, seed=27)\n",
    "xgb_model = xgb_modelfit.fit(xgb_X_train, xgb_y_train)\n",
    "\n",
    "\n",
    "# Traning data\n",
    "rf_y_train = xgb_y_train\n",
    "rf_y_train_pred = xgb_model.predict(xgb_X_train)\n",
    "rf_y_train_pred_score = xgb_model.predict_proba(xgb_X_train)\n",
    "rf_y_train_pred_score = rf_y_train_pred_score[:, 1]\n",
    "\n",
    "# Test data\n",
    "rf_y_test = xgb_y_test\n",
    "rf_y_pred = xgb_model.predict(xgb_X_test)\n",
    "rf_y_pred_score = xgb_model.predict_proba(xgb_X_test)\n",
    "rf_y_pred_score = rf_y_pred_score[:, 1]\n",
    "\n",
    "metrices(\"Train\", rf_y_train, rf_y_train_pred, rf_y_train_pred_score)\n",
    "print('\\n\\n')\n",
    "metrices(\"Test\", rf_y_test, rf_y_pred, rf_y_pred_score)\n",
    "\n",
    "feature_score = feature_score = pd.DataFrame(list(zip(xgb_X_train.dtypes.index, xgb_model.feature_importances_*100)),\n",
    "                columns=['Feature','Score'])\n",
    "feature_score = feature_score.sort_values(by='Score', ascending=False, inplace=False, kind='quicksort', na_position='last')\n",
    "feature_score"
   ]
  },
  {
   "cell_type": "markdown",
   "metadata": {},
   "source": [
    "#### XGB Shapely Additive Explaination"
   ]
  },
  {
   "cell_type": "code",
   "execution_count": null,
   "metadata": {
    "scrolled": false
   },
   "outputs": [
    {
     "name": "stderr",
     "output_type": "stream",
     "text": [
      "Setting feature_perturbation = \"tree_path_dependent\" because no background data was given.\n"
     ]
    }
   ],
   "source": [
    "# DF, based on which importance is checked\n",
    "xgb_importance = xgb_X_train # \n",
    "#xgb_importance = xgb_X_test\n",
    "\n",
    "# Explain model predictions using shap library:\n",
    "explainer = shap.TreeExplainer(xgb_model)\n",
    "shap_values = explainer.shap_values(xgb_importance)"
   ]
  },
  {
   "cell_type": "code",
   "execution_count": null,
   "metadata": {
    "scrolled": false
   },
   "outputs": [],
   "source": [
    "# Plot summary_plot\n",
    "shap.summary_plot(shap_values, xgb_importance)"
   ]
  },
  {
   "cell_type": "code",
   "execution_count": null,
   "metadata": {},
   "outputs": [],
   "source": []
  }
 ],
 "metadata": {
  "kernelspec": {
   "display_name": "Python 3",
   "language": "python",
   "name": "python3"
  },
  "language_info": {
   "codemirror_mode": {
    "name": "ipython",
    "version": 3
   },
   "file_extension": ".py",
   "mimetype": "text/x-python",
   "name": "python",
   "nbconvert_exporter": "python",
   "pygments_lexer": "ipython3",
   "version": "3.6.10"
  }
 },
 "nbformat": 4,
 "nbformat_minor": 2
}
