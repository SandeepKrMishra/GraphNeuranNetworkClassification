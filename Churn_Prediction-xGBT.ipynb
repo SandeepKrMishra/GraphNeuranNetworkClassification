{
 "cells": [
  {
   "cell_type": "code",
   "execution_count": 193,
   "metadata": {
    "scrolled": false
   },
   "outputs": [],
   "source": [
    "#print(\"HKHR : \", os.getcwd())\n",
    "#Import libraries:\n",
    "import pandas as pd\n",
    "import numpy as np\n",
    "\n",
    "import xgboost as xgb\n",
    "from xgboost import plot_tree\n",
    "from xgboost.sklearn import XGBClassifier\n",
    "\n",
    "from sklearn.preprocessing import OneHotEncoder, LabelEncoder\n",
    "from sklearn.tree import DecisionTreeClassifier\n",
    "\n",
    "from sklearn.model_selection import cross_val_score   #Additional scklearn functions\n",
    "from sklearn.model_selection import cross_validate   #Additional scklearn functions\n",
    "from sklearn.model_selection import train_test_split\n",
    "from sklearn.metrics import confusion_matrix, roc_curve, roc_auc_score, f1_score, precision_recall_curve, accuracy_score, precision_score, recall_score, cohen_kappa_score, average_precision_score\n",
    "\n",
    "from sklearn.model_selection import GridSearchCV   #Perforing grid search\n",
    "\n",
    "import itertools\n",
    "import matplotlib.pyplot as plt \n",
    "import graphviz\n",
    "import seaborn as sns\n",
    "from sklearn.tree import export_graphviz\n",
    "from IPython.display import Image\n",
    "\n",
    "import shap\n",
    "\n",
    "%matplotlib inline"
   ]
  },
  {
   "cell_type": "markdown",
   "metadata": {},
   "source": [
    "### Load dataset"
   ]
  },
  {
   "cell_type": "code",
   "execution_count": 671,
   "metadata": {
    "scrolled": false
   },
   "outputs": [
    {
     "data": {
      "text/plain": [
       "(49752, 58)"
      ]
     },
     "execution_count": 671,
     "metadata": {},
     "output_type": "execute_result"
    }
   ],
   "source": [
    "data = pd.read_csv(r'cell2celltrain.csv')\n",
    "data = data.dropna()\n",
    "data.shape"
   ]
  },
  {
   "cell_type": "markdown",
   "metadata": {},
   "source": [
    "### Feature Engineering"
   ]
  },
  {
   "cell_type": "markdown",
   "metadata": {},
   "source": [
    "ServiceArea: having high cardinality, derived new clustered feature based on churn distirbution"
   ]
  },
  {
   "cell_type": "code",
   "execution_count": 672,
   "metadata": {},
   "outputs": [],
   "source": [
    "service_area_df = pd.crosstab(data['ServiceArea'], data['Churn'], normalize='index').reset_index()\n",
    "service_area_10_list = list(service_area_df[service_area_df.Yes < 0.10]['ServiceArea'])\n",
    "service_area_10_25_list = list(service_area_df[(service_area_df.Yes >= 0.10) & (service_area_df.Yes < 0.25)]['ServiceArea'])\n",
    "service_area_25_50_list = list(service_area_df[(service_area_df.Yes >= 0.25) & (service_area_df.Yes < 0.50)]['ServiceArea'])\n",
    "service_area_50_75_list = list(service_area_df[(service_area_df.Yes >= 0.50) & (service_area_df.Yes < 0.75)]['ServiceArea'])\n",
    "service_area_75_100_list = list(service_area_df[service_area_df.Yes >= 0.75]['ServiceArea'])\n",
    "#print(len(service_area_10_list), len(service_area_10_25_list), len(service_area_25_50_list), len(service_area_50_75_list), len(service_area_75_100_list))\n",
    "#print(len(service_area_10_list)+len(service_area_10_25_list)+len(service_area_25_50_list)+len(service_area_50_75_list)+len(service_area_75_100_list))\n",
    "\n",
    "dict_service_area_10_list = { i : 1 for i in service_area_10_list }\n",
    "dict_service_area_10_25_list = { i : 2 for i in service_area_10_25_list }\n",
    "dict_service_area_25_50_list = { i : 3 for i in service_area_25_50_list }\n",
    "dict_service_area_50_75_list = { i : 4 for i in service_area_50_75_list }\n",
    "dict_service_area_75_100_list = { i : 5 for i in service_area_75_100_list }\n",
    "\n",
    "dict_service_area = {**dict_service_area_10_list, **dict_service_area_10_25_list, **dict_service_area_25_50_list, **dict_service_area_50_75_list, **dict_service_area_75_100_list}\n",
    "data['ServiceArea_der'] = data[['ServiceArea']].replace({\"ServiceArea\": dict_service_area}) "
   ]
  },
  {
   "cell_type": "markdown",
   "metadata": {},
   "source": [
    "Occupation: derived new clustered feature based on churn distirbution"
   ]
  },
  {
   "cell_type": "code",
   "execution_count": 673,
   "metadata": {},
   "outputs": [],
   "source": [
    "Occupation_replace_values = {'Professional':1, 'Other':2, 'Crafts':3 , 'Self':3, 'Retired':3, 'Homemaker':3, 'Clerical':3, 'Student':3}                                                                                          \n",
    "data['Occupation_der'] = data[['Occupation']].replace({\"Occupation\": Occupation_replace_values}) "
   ]
  },
  {
   "cell_type": "markdown",
   "metadata": {},
   "source": [
    "MaritalStatus: imputed missing/unkown data"
   ]
  },
  {
   "cell_type": "code",
   "execution_count": 674,
   "metadata": {},
   "outputs": [],
   "source": [
    "MaritalStatus_replace_values = {'Unknown':'Yes'}                                                                                          \n",
    "data['MaritalStatus'] = data[['MaritalStatus']].replace({\"MaritalStatus\": MaritalStatus_replace_values}) "
   ]
  },
  {
   "cell_type": "markdown",
   "metadata": {},
   "source": [
    "CreditRating: derived new clustered feature based on churn distirbution"
   ]
  },
  {
   "cell_type": "code",
   "execution_count": 675,
   "metadata": {},
   "outputs": [],
   "source": [
    "CreditRating_replace_values = {'1-Highest':1, '4-Medium':2, '3-Good':1, '2-High':1, '5-Low':3, '6-VeryLow':2, '7-Lowest':2}                                                                                          \n",
    "data['CreditRating_der'] = data[['CreditRating']].replace({\"CreditRating\": CreditRating_replace_values}) "
   ]
  },
  {
   "cell_type": "markdown",
   "metadata": {},
   "source": [
    "HandsetPrice: derived new clustered feature based on churn distirbution"
   ]
  },
  {
   "cell_type": "code",
   "execution_count": 676,
   "metadata": {},
   "outputs": [],
   "source": [
    "HandsetPrice_replace_values = {'30':3, 'Unknown':2, '10':3, '80':3, '150':3, '300':4, '40':2, '200':3, '100':3,\n",
    "       '130':3, '60':3, '400':5, '240':4, '250':1, '180':2, '500':4}                                                                                          \n",
    "data['HandsetPrice_der'] = data[['HandsetPrice']].replace({\"HandsetPrice\": HandsetPrice_replace_values}) "
   ]
  },
  {
   "cell_type": "code",
   "execution_count": 677,
   "metadata": {},
   "outputs": [],
   "source": [
    "cat_cols = []\n",
    "num_cols = []\n",
    "for i,col in enumerate(data.columns):\n",
    "    if(data[col].dtypes == 'object'):\n",
    "        cat_cols.append(col)\n",
    "    else:\n",
    "        num_cols.append(col)"
   ]
  },
  {
   "cell_type": "code",
   "execution_count": 678,
   "metadata": {},
   "outputs": [],
   "source": [
    "num_cols = ['MonthlyRevenue', 'TotalRecurringCharge', 'PercChangeMinutes', 'PercChangeRevenues',  'UnansweredCalls', \n",
    "            'MonthsInService', 'CurrentEquipmentDays', 'IncomeGroup',\n",
    "            #'DirectorAssistedCalls', 'RoamingCalls', 'BlockedCalls', 'CustomerCareCalls','ThreewayCalls', 'CallForwardingCalls',\n",
    "            # 'CallWaitingCalls', 'UniqueSubs', 'ActiveSubs', 'Handsets', 'HandsetModels', 'AgeHH1', 'RetentionCalls',\n",
    "            #  'ReferralsMadeBySubscriber', 'AdjustmentsToCreditRating',\n",
    "            \n",
    "            ]"
   ]
  },
  {
   "cell_type": "code",
   "execution_count": 702,
   "metadata": {
    "scrolled": false
   },
   "outputs": [
    {
     "data": {
      "text/plain": [
       "<matplotlib.axes._subplots.AxesSubplot at 0x28ab47247f0>"
      ]
     },
     "execution_count": 702,
     "metadata": {},
     "output_type": "execute_result"
    },
    {
     "data": {
      "image/png": "[encoded data removed]",
      "text/plain": [
       "<Figure size 432x288 with 2 Axes>"
      ]
     },
     "metadata": {
      "needs_background": "light"
     },
     "output_type": "display_data"
    }
   ],
   "source": [
    "cor_mat = data[num_cols].corr()\n",
    "sns.heatmap(cor_mat)"
   ]
  },
  {
   "cell_type": "markdown",
   "metadata": {},
   "source": [
    "##### Quantile labeling of numerical data"
   ]
  },
  {
   "cell_type": "code",
   "execution_count": 680,
   "metadata": {
    "scrolled": true
   },
   "outputs": [
    {
     "name": "stdout",
     "output_type": "stream",
     "text": [
      "==============>  MonthlyRevenue\n",
      "==============>  TotalRecurringCharge\n",
      "==============>  PercChangeMinutes\n",
      "==============>  PercChangeRevenues\n",
      "==============>  UnansweredCalls\n",
      "==============>  MonthsInService\n",
      "==============>  CurrentEquipmentDays\n",
      "==============>  IncomeGroup\n"
     ]
    }
   ],
   "source": [
    "quantile_list = [0, .25, .5, .75, 1.]\n",
    "quantile_labels = ['0-25Q', '25-50Q', '50-75Q', '75-100Q']\n",
    "for col in num_cols:\n",
    "    print(\"==============> \", col)\n",
    "    data[col+'_quantile_label'] = pd.qcut(data[col], q=quantile_list, labels=quantile_labels)"
   ]
  },
  {
   "cell_type": "markdown",
   "metadata": {},
   "source": [
    "#### Log transformation of uncoreelated right skwed data"
   ]
  },
  {
   "cell_type": "code",
   "execution_count": 681,
   "metadata": {},
   "outputs": [
    {
     "name": "stdout",
     "output_type": "stream",
     "text": [
      "==============>  MonthlyRevenue\n",
      "==============>  DirectorAssistedCalls\n",
      "==============>  RoamingCalls\n",
      "==============>  UnansweredCalls\n",
      "==============>  CustomerCareCalls\n",
      "==============>  ThreewayCalls\n",
      "==============>  BlockedCalls\n",
      "==============>  CallWaitingCalls\n",
      "==============>  CallForwardingCalls\n",
      "==============>  UniqueSubs\n",
      "==============>  ActiveSubs\n",
      "==============>  Handsets\n",
      "==============>  HandsetModels\n",
      "==============>  RetentionCalls\n",
      "==============>  MonthsInService\n",
      "==============>  AdjustmentsToCreditRating\n"
     ]
    },
    {
     "name": "stderr",
     "output_type": "stream",
     "text": [
      "invalid value encountered in log1p\n"
     ]
    }
   ],
   "source": [
    "log_col = ['MonthlyRevenue', 'DirectorAssistedCalls', 'RoamingCalls', 'UnansweredCalls', 'CustomerCareCalls','ThreewayCalls', \n",
    "           'BlockedCalls', 'CallWaitingCalls', 'CallForwardingCalls', 'UniqueSubs', 'ActiveSubs', 'Handsets', 'HandsetModels',\n",
    "           'RetentionCalls', 'MonthsInService', 'AdjustmentsToCreditRating' ]\n",
    "\n",
    "for col in log_col:\n",
    "    print(\"==============> \", col)\n",
    "    data[col+'_log'] = np.log1p(data[col])"
   ]
  },
  {
   "cell_type": "markdown",
   "metadata": {},
   "source": [
    "#### Fequency and Mean Encoding"
   ]
  },
  {
   "cell_type": "code",
   "execution_count": 682,
   "metadata": {},
   "outputs": [],
   "source": [
    "encoder_columns = ['MadeCallToRetentionTeam' , 'HandsetWebCapable', 'BuysViaMailOrder' , 'RespondsToMailOffers', 'OwnsMotorcycle',\n",
    "            'HandsetPrice', 'CreditRating', 'Occupation', 'MaritalStatus', \"Handsets\",\n",
    "            \"HandsetModels\", \"CurrentEquipmentDays\", \"AgeHH1\", \"AgeHH2\"]\n",
    "        \n",
    "## Mean encoding \n",
    "for col in encoder_columns:\n",
    "    encoding_x = data.groupby([col])['Churn'].count().reset_index()\n",
    "    encoding_x = encoding_x.rename(columns={'Churn' : \"sum\"})\n",
    "    \n",
    "    encoding_y = data.groupby([col])['Churn'].count().reset_index()\n",
    "    encoding_y = encoding_y.rename(columns={'Churn' : \"count\"})\n",
    "   \n",
    "    encoding_z = pd.merge(encoding_x, encoding_y, on = col, how = 'inner')\n",
    "    encoding_z[col+'_mean_encoded'] = (encoding_z['sum'].astype(int)/encoding_z['count'].astype(int))\n",
    "     \n",
    "    encoding_z = encoding_z[[col, col+'_mean_encoded']]\n",
    "    #data = pd.merge(data, encoding_z, on = col, how = 'left')\n",
    "\n",
    "## Freq encoding \n",
    "for col in encoder_columns:\n",
    "    freq_y = data.groupby([col]).size().reset_index()\n",
    "    freq_y.columns = [col, col+'_freq_encoded']\n",
    "    data = pd.merge(data, freq_y, on = col, how = 'left')"
   ]
  },
  {
   "cell_type": "code",
   "execution_count": 683,
   "metadata": {},
   "outputs": [
    {
     "name": "stdout",
     "output_type": "stream",
     "text": [
      "['CustomerID', 'Churn', 'MonthlyRevenue', 'MonthlyMinutes', 'TotalRecurringCharge', 'DirectorAssistedCalls', 'OverageMinutes', 'RoamingCalls', 'PercChangeMinutes', 'PercChangeRevenues', 'DroppedCalls', 'BlockedCalls', 'UnansweredCalls', 'CustomerCareCalls', 'ThreewayCalls', 'ReceivedCalls', 'OutboundCalls', 'InboundCalls', 'PeakCallsInOut', 'OffPeakCallsInOut', 'DroppedBlockedCalls', 'CallForwardingCalls', 'CallWaitingCalls', 'MonthsInService', 'UniqueSubs', 'ActiveSubs', 'ServiceArea', 'Handsets', 'HandsetModels', 'CurrentEquipmentDays', 'AgeHH1', 'AgeHH2', 'ChildrenInHH', 'HandsetRefurbished', 'HandsetWebCapable', 'TruckOwner', 'RVOwner', 'Homeownership', 'BuysViaMailOrder', 'RespondsToMailOffers', 'OptOutMailings', 'NonUSTravel', 'OwnsComputer', 'HasCreditCard', 'RetentionCalls', 'RetentionOffersAccepted', 'NewCellphoneUser', 'NotNewCellphoneUser', 'ReferralsMadeBySubscriber', 'IncomeGroup', 'OwnsMotorcycle', 'AdjustmentsToCreditRating', 'HandsetPrice', 'MadeCallToRetentionTeam', 'CreditRating', 'PrizmCode', 'Occupation', 'MaritalStatus', 'ServiceArea_der', 'Occupation_der', 'CreditRating_der', 'HandsetPrice_der', 'MonthlyRevenue_quantile_label', 'TotalRecurringCharge_quantile_label', 'PercChangeMinutes_quantile_label', 'PercChangeRevenues_quantile_label', 'UnansweredCalls_quantile_label', 'MonthsInService_quantile_label', 'CurrentEquipmentDays_quantile_label', 'IncomeGroup_quantile_label', 'MonthlyRevenue_log', 'DirectorAssistedCalls_log', 'RoamingCalls_log', 'UnansweredCalls_log', 'CustomerCareCalls_log', 'ThreewayCalls_log', 'BlockedCalls_log', 'CallWaitingCalls_log', 'CallForwardingCalls_log', 'UniqueSubs_log', 'ActiveSubs_log', 'Handsets_log', 'HandsetModels_log', 'RetentionCalls_log', 'MonthsInService_log', 'AdjustmentsToCreditRating_log', 'MadeCallToRetentionTeam_freq_encoded', 'HandsetWebCapable_freq_encoded', 'BuysViaMailOrder_freq_encoded', 'RespondsToMailOffers_freq_encoded', 'OwnsMotorcycle_freq_encoded', 'HandsetPrice_freq_encoded', 'CreditRating_freq_encoded', 'Occupation_freq_encoded', 'MaritalStatus_freq_encoded', 'Handsets_freq_encoded', 'HandsetModels_freq_encoded', 'CurrentEquipmentDays_freq_encoded', 'AgeHH1_freq_encoded', 'AgeHH2_freq_encoded']\n"
     ]
    }
   ],
   "source": [
    "print(list(data.columns))"
   ]
  },
  {
   "cell_type": "markdown",
   "metadata": {},
   "source": [
    "### Preprocessing and Stratified sampling utils"
   ]
  },
  {
   "cell_type": "code",
   "execution_count": 684,
   "metadata": {
    "scrolled": false
   },
   "outputs": [],
   "source": [
    "from sklearn.model_selection import train_test_split\n",
    "\n",
    "def imbalance_data_train_test_split(dataset, target_varibale, test_spit_size=0.20):\n",
    "    seed = 41\n",
    "    \n",
    "    data_positive_class = dataset[dataset[target_varibale] == 'Yes']\n",
    "    data_negative_class = dataset[dataset[target_varibale] == 'No']\n",
    "    print(\"data_positive_class shape: \", data_positive_class.shape, \"\\ndata_negative_class shape: \", data_negative_class.shape)\n",
    "    \n",
    "    X_data_positive_class = data_positive_class.drop(target_varibale, axis=1)\n",
    "    Y_data_positive_class = data_positive_class[[target_varibale]]\n",
    "    X_data_positive_class_train, X_data_positive_class_test, Y_data_positive_class_train, Y_data_positive_class_test = train_test_split(X_data_positive_class, Y_data_positive_class, test_size=test_spit_size, random_state=seed)\n",
    "\n",
    "    X_data_negative_class = data_negative_class.drop(target_varibale, axis=1)\n",
    "    Y_data_negative_class = data_negative_class[[target_varibale]]\n",
    "    X_data_negative_class_train, X_data_negative_class_test, Y_data_negative_class_train, Y_data_negative_class_test = train_test_split(X_data_negative_class, Y_data_negative_class, test_size=test_spit_size, random_state=seed)\n",
    "\n",
    "\n",
    "    X_train = pd.concat([X_data_positive_class_train, X_data_negative_class_train], axis=0)\n",
    "    y_train = pd.concat([Y_data_positive_class_train, Y_data_negative_class_train], axis=0)\n",
    "    X_test = pd.concat([X_data_positive_class_test, X_data_negative_class_test], axis=0)\n",
    "    y_test = pd.concat([Y_data_positive_class_test, Y_data_negative_class_test], axis=0)\n",
    "\n",
    "    print(X_train.shape[0]+X_test.shape[0], y_train.shape[0]+y_test.shape[0])\n",
    "    \n",
    "    return X_train, X_test, y_train, y_test\n",
    "\n",
    "def column_name_special_char_handling(train, test):\n",
    "    traincol = train.columns\n",
    "    testcol = test.columns\n",
    "\n",
    "    new_train_col = []\n",
    "    for col in traincol:\n",
    "        new_train_col.append(col.replace(\"/\", \"\").replace(\"(\", \"\").replace(\")\", \"\").replace(\"?\", \"\").replace(\" \", \"_\"))\n",
    "    train.columns = new_train_col\n",
    "    \n",
    "    new_test_col = []\n",
    "    for col in testcol:\n",
    "        new_test_col.append(col.replace(\"/\", \"\").replace(\"(\", \"\").replace(\")\", \"\").replace(\"?\", \"\").replace(\" \", \"_\"))\n",
    "    test.columns = new_test_col\n",
    "    \n",
    "    return train, test\n",
    "\n",
    "def train_test_data_for_platform(X_train, X_test, y_train, y_test):\n",
    "    \n",
    "    train_data = pd.concat([X_train, y_train], axis=1)\n",
    "    test_data = pd.concat([X_test, y_test], axis=1)\n",
    "    \n",
    "    #train, test = column_name_special_char_handling(train_data, test_data)\n",
    "    train = train_data\n",
    "    test = test_data\n",
    "    \n",
    "    print(\"train_data shape : \",train.shape, \"\\ntest_data shape : \",test.shape)\n",
    "    \n",
    "    return train, test"
   ]
  },
  {
   "cell_type": "markdown",
   "metadata": {},
   "source": [
    "#### Train - Test Splits"
   ]
  },
  {
   "cell_type": "code",
   "execution_count": 685,
   "metadata": {
    "scrolled": false
   },
   "outputs": [
    {
     "name": "stdout",
     "output_type": "stream",
     "text": [
      "data_positive_class shape:  (14245, 100) \n",
      "data_negative_class shape:  (35507, 100)\n",
      "49752 49752\n",
      "train_data shape :  (39801, 100) \n",
      "test_data shape :  (9951, 100)\n"
     ]
    }
   ],
   "source": [
    "target_varibale = 'Churn'\n",
    "\n",
    "X_train, X_test, y_train, y_test = imbalance_data_train_test_split(data, target_varibale, test_spit_size=0.20)\n",
    "_train_data, _test_data = train_test_data_for_platform(X_train, X_test, y_train, y_test)"
   ]
  },
  {
   "cell_type": "code",
   "execution_count": 686,
   "metadata": {
    "scrolled": false
   },
   "outputs": [
    {
     "name": "stdout",
     "output_type": "stream",
     "text": [
      "(11396, 100)\n",
      "(28405, 100)\n",
      "(2849, 100)\n",
      "(7102, 100)\n"
     ]
    }
   ],
   "source": [
    "print(_train_data[_train_data[target_varibale]=='Yes'].shape)\n",
    "print(_train_data[_train_data[target_varibale]=='No'].shape)\n",
    "print(_test_data[_test_data[target_varibale]=='Yes'].shape)\n",
    "print(_test_data[_test_data[target_varibale]=='No'].shape)"
   ]
  },
  {
   "cell_type": "code",
   "execution_count": 687,
   "metadata": {
    "scrolled": false
   },
   "outputs": [],
   "source": [
    "train = _train_data\n",
    "test = _test_data"
   ]
  },
  {
   "cell_type": "code",
   "execution_count": 688,
   "metadata": {
    "scrolled": false
   },
   "outputs": [
    {
     "name": "stdout",
     "output_type": "stream",
     "text": [
      "['CustomerID', 'MonthlyRevenue', 'MonthlyMinutes', 'TotalRecurringCharge', 'DirectorAssistedCalls', 'OverageMinutes', 'RoamingCalls', 'PercChangeMinutes', 'PercChangeRevenues', 'DroppedCalls', 'BlockedCalls', 'UnansweredCalls', 'CustomerCareCalls', 'ThreewayCalls', 'ReceivedCalls', 'OutboundCalls', 'InboundCalls', 'PeakCallsInOut', 'OffPeakCallsInOut', 'DroppedBlockedCalls', 'CallForwardingCalls', 'CallWaitingCalls', 'MonthsInService', 'UniqueSubs', 'ActiveSubs', 'ServiceArea', 'Handsets', 'HandsetModels', 'CurrentEquipmentDays', 'AgeHH1', 'AgeHH2', 'ChildrenInHH', 'HandsetRefurbished', 'HandsetWebCapable', 'TruckOwner', 'RVOwner', 'Homeownership', 'BuysViaMailOrder', 'RespondsToMailOffers', 'OptOutMailings', 'NonUSTravel', 'OwnsComputer', 'HasCreditCard', 'RetentionCalls', 'RetentionOffersAccepted', 'NewCellphoneUser', 'NotNewCellphoneUser', 'ReferralsMadeBySubscriber', 'IncomeGroup', 'OwnsMotorcycle', 'AdjustmentsToCreditRating', 'HandsetPrice', 'MadeCallToRetentionTeam', 'CreditRating', 'PrizmCode', 'Occupation', 'MaritalStatus', 'ServiceArea_der', 'Occupation_der', 'CreditRating_der', 'HandsetPrice_der', 'MonthlyRevenue_quantile_label', 'TotalRecurringCharge_quantile_label', 'PercChangeMinutes_quantile_label', 'PercChangeRevenues_quantile_label', 'UnansweredCalls_quantile_label', 'MonthsInService_quantile_label', 'CurrentEquipmentDays_quantile_label', 'IncomeGroup_quantile_label', 'MonthlyRevenue_log', 'DirectorAssistedCalls_log', 'RoamingCalls_log', 'UnansweredCalls_log', 'CustomerCareCalls_log', 'ThreewayCalls_log', 'BlockedCalls_log', 'CallWaitingCalls_log', 'CallForwardingCalls_log', 'UniqueSubs_log', 'ActiveSubs_log', 'Handsets_log', 'HandsetModels_log', 'RetentionCalls_log', 'MonthsInService_log', 'AdjustmentsToCreditRating_log', 'MadeCallToRetentionTeam_freq_encoded', 'HandsetWebCapable_freq_encoded', 'BuysViaMailOrder_freq_encoded', 'RespondsToMailOffers_freq_encoded', 'OwnsMotorcycle_freq_encoded', 'HandsetPrice_freq_encoded', 'CreditRating_freq_encoded', 'Occupation_freq_encoded', 'MaritalStatus_freq_encoded', 'Handsets_freq_encoded', 'HandsetModels_freq_encoded', 'CurrentEquipmentDays_freq_encoded', 'AgeHH1_freq_encoded', 'AgeHH2_freq_encoded', 'Churn']\n"
     ]
    }
   ],
   "source": [
    "print(list(train.columns))"
   ]
  },
  {
   "cell_type": "code",
   "execution_count": 689,
   "metadata": {
    "scrolled": false
   },
   "outputs": [
    {
     "name": "stdout",
     "output_type": "stream",
     "text": [
      "Index(['CustomerID', 'MonthlyRevenue', 'MonthlyMinutes',\n",
      "       'TotalRecurringCharge', 'DirectorAssistedCalls', 'OverageMinutes',\n",
      "       'RoamingCalls', 'PercChangeMinutes', 'PercChangeRevenues',\n",
      "       'DroppedCalls', 'BlockedCalls', 'UnansweredCalls', 'CustomerCareCalls',\n",
      "       'ThreewayCalls', 'ReceivedCalls', 'OutboundCalls', 'InboundCalls',\n",
      "       'PeakCallsInOut', 'OffPeakCallsInOut', 'DroppedBlockedCalls',\n",
      "       'CallForwardingCalls', 'CallWaitingCalls', 'MonthsInService',\n",
      "       'UniqueSubs', 'ActiveSubs', 'ServiceArea', 'Handsets', 'HandsetModels',\n",
      "       'CurrentEquipmentDays', 'AgeHH1', 'AgeHH2', 'ChildrenInHH',\n",
      "       'HandsetRefurbished', 'HandsetWebCapable', 'TruckOwner', 'RVOwner',\n",
      "       'Homeownership', 'BuysViaMailOrder', 'RespondsToMailOffers',\n",
      "       'OptOutMailings', 'NonUSTravel', 'OwnsComputer', 'HasCreditCard',\n",
      "       'RetentionCalls', 'RetentionOffersAccepted', 'NewCellphoneUser',\n",
      "       'NotNewCellphoneUser', 'ReferralsMadeBySubscriber', 'IncomeGroup',\n",
      "       'OwnsMotorcycle', 'AdjustmentsToCreditRating', 'HandsetPrice',\n",
      "       'MadeCallToRetentionTeam', 'CreditRating', 'PrizmCode', 'Occupation',\n",
      "       'MaritalStatus', 'ServiceArea_der', 'Occupation_der',\n",
      "       'CreditRating_der', 'HandsetPrice_der', 'MonthlyRevenue_quantile_label',\n",
      "       'TotalRecurringCharge_quantile_label',\n",
      "       'PercChangeMinutes_quantile_label', 'PercChangeRevenues_quantile_label',\n",
      "       'UnansweredCalls_quantile_label', 'MonthsInService_quantile_label',\n",
      "       'CurrentEquipmentDays_quantile_label', 'IncomeGroup_quantile_label',\n",
      "       'MonthlyRevenue_log', 'DirectorAssistedCalls_log', 'RoamingCalls_log',\n",
      "       'UnansweredCalls_log', 'CustomerCareCalls_log', 'ThreewayCalls_log',\n",
      "       'BlockedCalls_log', 'CallWaitingCalls_log', 'CallForwardingCalls_log',\n",
      "       'UniqueSubs_log', 'ActiveSubs_log', 'Handsets_log', 'HandsetModels_log',\n",
      "       'RetentionCalls_log', 'MonthsInService_log',\n",
      "       'AdjustmentsToCreditRating_log', 'MadeCallToRetentionTeam_freq_encoded',\n",
      "       'HandsetWebCapable_freq_encoded', 'BuysViaMailOrder_freq_encoded',\n",
      "       'RespondsToMailOffers_freq_encoded', 'OwnsMotorcycle_freq_encoded',\n",
      "       'HandsetPrice_freq_encoded', 'CreditRating_freq_encoded',\n",
      "       'Occupation_freq_encoded', 'MaritalStatus_freq_encoded',\n",
      "       'Handsets_freq_encoded', 'HandsetModels_freq_encoded',\n",
      "       'CurrentEquipmentDays_freq_encoded', 'AgeHH1_freq_encoded',\n",
      "       'AgeHH2_freq_encoded', 'Churn'],\n",
      "      dtype='object')\n"
     ]
    }
   ],
   "source": [
    "print(train.columns)\n",
    "\n",
    "boost_col = ['Churn', 'MadeCallToRetentionTeam' , 'HandsetWebCapable', 'BuysViaMailOrder' , 'RespondsToMailOffers', 'OwnsMotorcycle',\n",
    "            'HandsetPrice', 'CreditRating', 'Occupation', 'MaritalStatus', \"Handsets\",\n",
    "            \"HandsetModels\", \"CurrentEquipmentDays\", \"AgeHH1\", \"AgeHH2\",\n",
    "             \n",
    "            'MonthlyRevenue_quantile_label', 'TotalRecurringCharge_quantile_label',\n",
    "            'PercChangeMinutes_quantile_label', 'PercChangeRevenues_quantile_label',\n",
    "            'UnansweredCalls_quantile_label', 'MonthsInService_quantile_label',\n",
    "            'CurrentEquipmentDays_quantile_label', 'IncomeGroup_quantile_label',\n",
    "             \n",
    "            'MonthlyRevenue_log', 'DirectorAssistedCalls_log', 'RoamingCalls_log',\n",
    "            'UnansweredCalls_log', 'CustomerCareCalls_log', 'ThreewayCalls_log',\n",
    "            'BlockedCalls_log', 'CallWaitingCalls_log', 'CallForwardingCalls_log',\n",
    "            'UniqueSubs_log', 'ActiveSubs_log', 'Handsets_log', 'HandsetModels_log',\n",
    "            'RetentionCalls_log', 'MonthsInService_log',\n",
    "            'AdjustmentsToCreditRating_log',\n",
    "             \n",
    "            #'MadeCallToRetentionTeam_mean_encoded', 'HandsetWebCapable_mean_encoded', 'BuysViaMailOrder_mean_encoded',\n",
    "            #'RespondsToMailOffers_mean_encoded', 'OwnsMotorcycle_mean_encoded', 'HandsetPrice_mean_encoded', \n",
    "            #'CreditRating_mean_encoded', 'Occupation_mean_encoded', 'MaritalStatus_mean_encoded','Handsets_mean_encoded', \n",
    "            #'HandsetModels_mean_encoded','CurrentEquipmentDays_mean_encoded', 'AgeHH1_mean_encoded','AgeHH2_mean_encoded',\n",
    "             \n",
    "             'MadeCallToRetentionTeam_freq_encoded', 'HandsetWebCapable_freq_encoded', \n",
    "             'BuysViaMailOrder_freq_encoded',  'RespondsToMailOffers_freq_encoded', 'OwnsMotorcycle_freq_encoded', \n",
    "             'HandsetPrice_freq_encoded',  'CreditRating_freq_encoded', 'Occupation_freq_encoded', 'MaritalStatus_freq_encoded',\n",
    "             'Handsets_freq_encoded',  'HandsetModels_freq_encoded', 'CurrentEquipmentDays_freq_encoded', \n",
    "             'AgeHH1_freq_encoded', 'AgeHH2_freq_encoded',\n",
    "             \n",
    "             'Occupation_der', 'CreditRating_der', 'HandsetPrice_der', 'ServiceArea_der'\n",
    "             \n",
    "           ]\n",
    "\n",
    "target_flag = target_varibale"
   ]
  },
  {
   "cell_type": "markdown",
   "metadata": {},
   "source": [
    "#### Encoding of categorical varibale"
   ]
  },
  {
   "cell_type": "code",
   "execution_count": 690,
   "metadata": {
    "scrolled": false
   },
   "outputs": [],
   "source": [
    "for i,col in enumerate(boost_col):\n",
    "    data_type = str(train[col].dtypes)\n",
    "    #print(\"\\n===============>\",col, data_type)\n",
    "    if(( data_type == \"object\") or (data_type == \"category\")):\n",
    "        le = LabelEncoder()\n",
    "        train[col] = le.fit_transform(train[col].astype(str))\n",
    "        #print(le.classes_)\n",
    "\n",
    "        test[col] = test[col].map(lambda s: '<unknown>' if s not in le.classes_ else s)\n",
    "        le.classes_ = np.append(le.classes_, '<unknown>')\n",
    "\n",
    "        test[col] = le.transform(test[col])"
   ]
  },
  {
   "cell_type": "code",
   "execution_count": 691,
   "metadata": {
    "scrolled": false
   },
   "outputs": [
    {
     "name": "stdout",
     "output_type": "stream",
     "text": [
      "(39801, 100)\n"
     ]
    },
    {
     "data": {
      "text/html": [
       "<div>\n",
       "<style scoped>\n",
       "    .dataframe tbody tr th:only-of-type {\n",
       "        vertical-align: middle;\n",
       "    }\n",
       "\n",
       "    .dataframe tbody tr th {\n",
       "        vertical-align: top;\n",
       "    }\n",
       "\n",
       "    .dataframe thead th {\n",
       "        text-align: right;\n",
       "    }\n",
       "</style>\n",
       "<table border=\"1\" class=\"dataframe\">\n",
       "  <thead>\n",
       "    <tr style=\"text-align: right;\">\n",
       "      <th></th>\n",
       "      <th>CustomerID</th>\n",
       "      <th>MonthlyRevenue</th>\n",
       "      <th>MonthlyMinutes</th>\n",
       "      <th>TotalRecurringCharge</th>\n",
       "      <th>DirectorAssistedCalls</th>\n",
       "      <th>OverageMinutes</th>\n",
       "      <th>RoamingCalls</th>\n",
       "      <th>PercChangeMinutes</th>\n",
       "      <th>PercChangeRevenues</th>\n",
       "      <th>DroppedCalls</th>\n",
       "      <th>...</th>\n",
       "      <th>HandsetPrice_freq_encoded</th>\n",
       "      <th>CreditRating_freq_encoded</th>\n",
       "      <th>Occupation_freq_encoded</th>\n",
       "      <th>MaritalStatus_freq_encoded</th>\n",
       "      <th>Handsets_freq_encoded</th>\n",
       "      <th>HandsetModels_freq_encoded</th>\n",
       "      <th>CurrentEquipmentDays_freq_encoded</th>\n",
       "      <th>AgeHH1_freq_encoded</th>\n",
       "      <th>AgeHH2_freq_encoded</th>\n",
       "      <th>Churn</th>\n",
       "    </tr>\n",
       "  </thead>\n",
       "  <tbody>\n",
       "    <tr>\n",
       "      <th>23555</th>\n",
       "      <td>3188958</td>\n",
       "      <td>60.70</td>\n",
       "      <td>1027.0</td>\n",
       "      <td>63.0</td>\n",
       "      <td>1.49</td>\n",
       "      <td>0.0</td>\n",
       "      <td>0.0</td>\n",
       "      <td>-596.0</td>\n",
       "      <td>-63.5</td>\n",
       "      <td>6.3</td>\n",
       "      <td>...</td>\n",
       "      <td>1209</td>\n",
       "      <td>6320</td>\n",
       "      <td>36453</td>\n",
       "      <td>37155</td>\n",
       "      <td>140</td>\n",
       "      <td>428</td>\n",
       "      <td>41</td>\n",
       "      <td>2056</td>\n",
       "      <td>649</td>\n",
       "      <td>1</td>\n",
       "    </tr>\n",
       "    <tr>\n",
       "      <th>31936</th>\n",
       "      <td>3259114</td>\n",
       "      <td>111.19</td>\n",
       "      <td>1509.0</td>\n",
       "      <td>54.0</td>\n",
       "      <td>4.46</td>\n",
       "      <td>141.0</td>\n",
       "      <td>0.0</td>\n",
       "      <td>361.0</td>\n",
       "      <td>111.5</td>\n",
       "      <td>10.7</td>\n",
       "      <td>...</td>\n",
       "      <td>28263</td>\n",
       "      <td>6320</td>\n",
       "      <td>8681</td>\n",
       "      <td>37155</td>\n",
       "      <td>28139</td>\n",
       "      <td>31078</td>\n",
       "      <td>90</td>\n",
       "      <td>1229</td>\n",
       "      <td>25877</td>\n",
       "      <td>1</td>\n",
       "    </tr>\n",
       "    <tr>\n",
       "      <th>22032</th>\n",
       "      <td>3176510</td>\n",
       "      <td>48.88</td>\n",
       "      <td>1033.0</td>\n",
       "      <td>45.0</td>\n",
       "      <td>0.50</td>\n",
       "      <td>34.0</td>\n",
       "      <td>0.0</td>\n",
       "      <td>-95.0</td>\n",
       "      <td>30.5</td>\n",
       "      <td>6.7</td>\n",
       "      <td>...</td>\n",
       "      <td>240</td>\n",
       "      <td>18692</td>\n",
       "      <td>36453</td>\n",
       "      <td>37155</td>\n",
       "      <td>12369</td>\n",
       "      <td>12691</td>\n",
       "      <td>107</td>\n",
       "      <td>13808</td>\n",
       "      <td>25877</td>\n",
       "      <td>1</td>\n",
       "    </tr>\n",
       "  </tbody>\n",
       "</table>\n",
       "<p>3 rows × 100 columns</p>\n",
       "</div>"
      ],
      "text/plain": [
       "       CustomerID  MonthlyRevenue  MonthlyMinutes  TotalRecurringCharge  \\\n",
       "23555     3188958           60.70          1027.0                  63.0   \n",
       "31936     3259114          111.19          1509.0                  54.0   \n",
       "22032     3176510           48.88          1033.0                  45.0   \n",
       "\n",
       "       DirectorAssistedCalls  OverageMinutes  RoamingCalls  PercChangeMinutes  \\\n",
       "23555                   1.49             0.0           0.0             -596.0   \n",
       "31936                   4.46           141.0           0.0              361.0   \n",
       "22032                   0.50            34.0           0.0              -95.0   \n",
       "\n",
       "       PercChangeRevenues  DroppedCalls  ...  HandsetPrice_freq_encoded  \\\n",
       "23555               -63.5           6.3  ...                       1209   \n",
       "31936               111.5          10.7  ...                      28263   \n",
       "22032                30.5           6.7  ...                        240   \n",
       "\n",
       "       CreditRating_freq_encoded  Occupation_freq_encoded  \\\n",
       "23555                       6320                    36453   \n",
       "31936                       6320                     8681   \n",
       "22032                      18692                    36453   \n",
       "\n",
       "       MaritalStatus_freq_encoded  Handsets_freq_encoded  \\\n",
       "23555                       37155                    140   \n",
       "31936                       37155                  28139   \n",
       "22032                       37155                  12369   \n",
       "\n",
       "       HandsetModels_freq_encoded  CurrentEquipmentDays_freq_encoded  \\\n",
       "23555                         428                                 41   \n",
       "31936                       31078                                 90   \n",
       "22032                       12691                                107   \n",
       "\n",
       "       AgeHH1_freq_encoded  AgeHH2_freq_encoded  Churn  \n",
       "23555                 2056                  649      1  \n",
       "31936                 1229                25877      1  \n",
       "22032                13808                25877      1  \n",
       "\n",
       "[3 rows x 100 columns]"
      ]
     },
     "execution_count": 691,
     "metadata": {},
     "output_type": "execute_result"
    }
   ],
   "source": [
    "print(train.shape)\n",
    "train.head(3)"
   ]
  },
  {
   "cell_type": "code",
   "execution_count": 692,
   "metadata": {
    "scrolled": false
   },
   "outputs": [
    {
     "name": "stdout",
     "output_type": "stream",
     "text": [
      "(9951, 100)\n"
     ]
    },
    {
     "data": {
      "text/html": [
       "<div>\n",
       "<style scoped>\n",
       "    .dataframe tbody tr th:only-of-type {\n",
       "        vertical-align: middle;\n",
       "    }\n",
       "\n",
       "    .dataframe tbody tr th {\n",
       "        vertical-align: top;\n",
       "    }\n",
       "\n",
       "    .dataframe thead th {\n",
       "        text-align: right;\n",
       "    }\n",
       "</style>\n",
       "<table border=\"1\" class=\"dataframe\">\n",
       "  <thead>\n",
       "    <tr style=\"text-align: right;\">\n",
       "      <th></th>\n",
       "      <th>CustomerID</th>\n",
       "      <th>MonthlyRevenue</th>\n",
       "      <th>MonthlyMinutes</th>\n",
       "      <th>TotalRecurringCharge</th>\n",
       "      <th>DirectorAssistedCalls</th>\n",
       "      <th>OverageMinutes</th>\n",
       "      <th>RoamingCalls</th>\n",
       "      <th>PercChangeMinutes</th>\n",
       "      <th>PercChangeRevenues</th>\n",
       "      <th>DroppedCalls</th>\n",
       "      <th>...</th>\n",
       "      <th>HandsetPrice_freq_encoded</th>\n",
       "      <th>CreditRating_freq_encoded</th>\n",
       "      <th>Occupation_freq_encoded</th>\n",
       "      <th>MaritalStatus_freq_encoded</th>\n",
       "      <th>Handsets_freq_encoded</th>\n",
       "      <th>HandsetModels_freq_encoded</th>\n",
       "      <th>CurrentEquipmentDays_freq_encoded</th>\n",
       "      <th>AgeHH1_freq_encoded</th>\n",
       "      <th>AgeHH2_freq_encoded</th>\n",
       "      <th>Churn</th>\n",
       "    </tr>\n",
       "  </thead>\n",
       "  <tbody>\n",
       "    <tr>\n",
       "      <th>37124</th>\n",
       "      <td>3302050</td>\n",
       "      <td>19.99</td>\n",
       "      <td>0.0</td>\n",
       "      <td>30.0</td>\n",
       "      <td>0.00</td>\n",
       "      <td>0.0</td>\n",
       "      <td>0.0</td>\n",
       "      <td>0.0</td>\n",
       "      <td>0.0</td>\n",
       "      <td>0.0</td>\n",
       "      <td>...</td>\n",
       "      <td>28263</td>\n",
       "      <td>18692</td>\n",
       "      <td>36453</td>\n",
       "      <td>37155</td>\n",
       "      <td>28139</td>\n",
       "      <td>31078</td>\n",
       "      <td>111</td>\n",
       "      <td>535</td>\n",
       "      <td>25877</td>\n",
       "      <td>1</td>\n",
       "    </tr>\n",
       "    <tr>\n",
       "      <th>16828</th>\n",
       "      <td>3134386</td>\n",
       "      <td>35.24</td>\n",
       "      <td>458.0</td>\n",
       "      <td>45.0</td>\n",
       "      <td>0.25</td>\n",
       "      <td>0.0</td>\n",
       "      <td>0.0</td>\n",
       "      <td>-185.0</td>\n",
       "      <td>-0.2</td>\n",
       "      <td>0.0</td>\n",
       "      <td>...</td>\n",
       "      <td>7147</td>\n",
       "      <td>18692</td>\n",
       "      <td>8681</td>\n",
       "      <td>37155</td>\n",
       "      <td>4946</td>\n",
       "      <td>4023</td>\n",
       "      <td>116</td>\n",
       "      <td>1705</td>\n",
       "      <td>441</td>\n",
       "      <td>1</td>\n",
       "    </tr>\n",
       "    <tr>\n",
       "      <th>23499</th>\n",
       "      <td>3188542</td>\n",
       "      <td>53.44</td>\n",
       "      <td>9.0</td>\n",
       "      <td>60.0</td>\n",
       "      <td>0.00</td>\n",
       "      <td>0.0</td>\n",
       "      <td>0.0</td>\n",
       "      <td>-9.0</td>\n",
       "      <td>-0.4</td>\n",
       "      <td>0.3</td>\n",
       "      <td>...</td>\n",
       "      <td>28263</td>\n",
       "      <td>18692</td>\n",
       "      <td>36453</td>\n",
       "      <td>37155</td>\n",
       "      <td>28139</td>\n",
       "      <td>31078</td>\n",
       "      <td>61</td>\n",
       "      <td>246</td>\n",
       "      <td>227</td>\n",
       "      <td>1</td>\n",
       "    </tr>\n",
       "  </tbody>\n",
       "</table>\n",
       "<p>3 rows × 100 columns</p>\n",
       "</div>"
      ],
      "text/plain": [
       "       CustomerID  MonthlyRevenue  MonthlyMinutes  TotalRecurringCharge  \\\n",
       "37124     3302050           19.99             0.0                  30.0   \n",
       "16828     3134386           35.24           458.0                  45.0   \n",
       "23499     3188542           53.44             9.0                  60.0   \n",
       "\n",
       "       DirectorAssistedCalls  OverageMinutes  RoamingCalls  PercChangeMinutes  \\\n",
       "37124                   0.00             0.0           0.0                0.0   \n",
       "16828                   0.25             0.0           0.0             -185.0   \n",
       "23499                   0.00             0.0           0.0               -9.0   \n",
       "\n",
       "       PercChangeRevenues  DroppedCalls  ...  HandsetPrice_freq_encoded  \\\n",
       "37124                 0.0           0.0  ...                      28263   \n",
       "16828                -0.2           0.0  ...                       7147   \n",
       "23499                -0.4           0.3  ...                      28263   \n",
       "\n",
       "       CreditRating_freq_encoded  Occupation_freq_encoded  \\\n",
       "37124                      18692                    36453   \n",
       "16828                      18692                     8681   \n",
       "23499                      18692                    36453   \n",
       "\n",
       "       MaritalStatus_freq_encoded  Handsets_freq_encoded  \\\n",
       "37124                       37155                  28139   \n",
       "16828                       37155                   4946   \n",
       "23499                       37155                  28139   \n",
       "\n",
       "       HandsetModels_freq_encoded  CurrentEquipmentDays_freq_encoded  \\\n",
       "37124                       31078                                111   \n",
       "16828                        4023                                116   \n",
       "23499                       31078                                 61   \n",
       "\n",
       "       AgeHH1_freq_encoded  AgeHH2_freq_encoded  Churn  \n",
       "37124                  535                25877      1  \n",
       "16828                 1705                  441      1  \n",
       "23499                  246                  227      1  \n",
       "\n",
       "[3 rows x 100 columns]"
      ]
     },
     "execution_count": 692,
     "metadata": {},
     "output_type": "execute_result"
    }
   ],
   "source": [
    "print(test.shape)\n",
    "test.head(3)"
   ]
  },
  {
   "cell_type": "code",
   "execution_count": 693,
   "metadata": {
    "scrolled": false
   },
   "outputs": [],
   "source": [
    "X_train = train[boost_col]\n",
    "y_train = train[target_flag]\n",
    "\n",
    "X_test = test[boost_col]\n",
    "y_test = test[target_flag]"
   ]
  },
  {
   "cell_type": "markdown",
   "metadata": {},
   "source": [
    "## Metrices"
   ]
  },
  {
   "cell_type": "code",
   "execution_count": 694,
   "metadata": {
    "scrolled": false
   },
   "outputs": [],
   "source": [
    "from sklearn.metrics import confusion_matrix, roc_curve, roc_auc_score, f1_score, precision_recall_curve, accuracy_score, precision_score, recall_score, cohen_kappa_score, average_precision_score\n",
    "def metrices(_type, rf_y_train, rf_y_train_pred, rf_y_train_pred_score):\n",
    "    print(_type+\" Accuracy:\",accuracy_score(rf_y_train, rf_y_train_pred))\n",
    "    print(_type+\" f1_score:\",f1_score(rf_y_train, rf_y_train_pred))\n",
    "    print(_type+\" precision_score:\",precision_score(rf_y_train, rf_y_train_pred))\n",
    "    print(_type+\" recall_score:\",recall_score(rf_y_train, rf_y_train_pred)) \n",
    "    #print(_type+\" Cohens kappa:\",cohen_kappa_score(rf_y_train, rf_y_train_pred))\n",
    "    print(_type+\" ROC AUC:\",roc_auc_score(rf_y_train, rf_y_train_pred))\n",
    "    print(_type+\" confusion_matrix:\\n\",confusion_matrix(rf_y_train, rf_y_train_pred))\n",
    "    print(_type+\" Average precision-recall score: {0:0.2f}\".format(average_precision_score(rf_y_train, rf_y_train_pred_score)))"
   ]
  },
  {
   "cell_type": "code",
   "execution_count": 695,
   "metadata": {},
   "outputs": [
    {
     "name": "stdout",
     "output_type": "stream",
     "text": [
      "11396\n",
      "28405\n",
      "39801 39801\n",
      "39801 39801\n",
      "2.4925412425412428\n"
     ]
    }
   ],
   "source": [
    "print(sum(y_train == 1))\n",
    "print(sum(y_train == 0))\n",
    "print(len(y_train), sum(y_train == 1)+sum(y_train == 0))\n",
    "print(len(y_train), sum(y_train == 1)+sum(y_train == 0))\n",
    "cal_scale_pos_weight = sum(y_train == 0)/sum(y_train == 1)\n",
    "print(cal_scale_pos_weight)"
   ]
  },
  {
   "cell_type": "code",
   "execution_count": 696,
   "metadata": {},
   "outputs": [
    {
     "data": {
      "text/plain": [
       "Index(['Churn', 'MadeCallToRetentionTeam', 'HandsetWebCapable',\n",
       "       'BuysViaMailOrder', 'RespondsToMailOffers', 'OwnsMotorcycle',\n",
       "       'HandsetPrice', 'CreditRating', 'Occupation', 'MaritalStatus',\n",
       "       'Handsets', 'HandsetModels', 'CurrentEquipmentDays', 'AgeHH1', 'AgeHH2',\n",
       "       'MonthlyRevenue_quantile_label', 'TotalRecurringCharge_quantile_label',\n",
       "       'PercChangeMinutes_quantile_label', 'PercChangeRevenues_quantile_label',\n",
       "       'UnansweredCalls_quantile_label', 'MonthsInService_quantile_label',\n",
       "       'CurrentEquipmentDays_quantile_label', 'IncomeGroup_quantile_label',\n",
       "       'MonthlyRevenue_log', 'DirectorAssistedCalls_log', 'RoamingCalls_log',\n",
       "       'UnansweredCalls_log', 'CustomerCareCalls_log', 'ThreewayCalls_log',\n",
       "       'BlockedCalls_log', 'CallWaitingCalls_log', 'CallForwardingCalls_log',\n",
       "       'UniqueSubs_log', 'ActiveSubs_log', 'Handsets_log', 'HandsetModels_log',\n",
       "       'RetentionCalls_log', 'MonthsInService_log',\n",
       "       'AdjustmentsToCreditRating_log', 'MadeCallToRetentionTeam_freq_encoded',\n",
       "       'HandsetWebCapable_freq_encoded', 'BuysViaMailOrder_freq_encoded',\n",
       "       'RespondsToMailOffers_freq_encoded', 'OwnsMotorcycle_freq_encoded',\n",
       "       'HandsetPrice_freq_encoded', 'CreditRating_freq_encoded',\n",
       "       'Occupation_freq_encoded', 'MaritalStatus_freq_encoded',\n",
       "       'Handsets_freq_encoded', 'HandsetModels_freq_encoded',\n",
       "       'CurrentEquipmentDays_freq_encoded', 'AgeHH1_freq_encoded',\n",
       "       'AgeHH2_freq_encoded', 'Occupation_der', 'CreditRating_der',\n",
       "       'HandsetPrice_der', 'ServiceArea_der'],\n",
       "      dtype='object')"
      ]
     },
     "execution_count": 696,
     "metadata": {},
     "output_type": "execute_result"
    }
   ],
   "source": [
    "X_train.columns"
   ]
  },
  {
   "cell_type": "markdown",
   "metadata": {},
   "source": [
    "## XGBClassifier : Model building"
   ]
  },
  {
   "cell_type": "code",
   "execution_count": 701,
   "metadata": {
    "scrolled": false
   },
   "outputs": [
    {
     "name": "stdout",
     "output_type": "stream",
     "text": [
      "Train Accuracy: 0.7815130273108716\n",
      "Train f1_score: 0.6562845849802371\n",
      "Train precision_score: 0.5970943613348677\n",
      "Train recall_score: 0.7285012285012284\n",
      "Train ROC AUC: 0.7656412144970497\n",
      "Train confusion_matrix:\n",
      " [[22803  5602]\n",
      " [ 3094  8302]]\n",
      "Train Average precision-recall score: 0.72\n",
      "\n",
      "\n",
      "\n",
      "Test Accuracy: 0.654507084715104\n",
      "Test f1_score: 0.44601998066387366\n",
      "Test precision_score: 0.41227286267500746\n",
      "Test recall_score: 0.4857844857844858\n",
      "Test ROC AUC: 0.6039877089581398\n",
      "Test confusion_matrix:\n",
      " [[5129 1973]\n",
      " [1465 1384]]\n",
      "Test Average precision-recall score: 0.42\n"
     ]
    },
    {
     "data": {
      "text/html": [
       "<div>\n",
       "<style scoped>\n",
       "    .dataframe tbody tr th:only-of-type {\n",
       "        vertical-align: middle;\n",
       "    }\n",
       "\n",
       "    .dataframe tbody tr th {\n",
       "        vertical-align: top;\n",
       "    }\n",
       "\n",
       "    .dataframe thead th {\n",
       "        text-align: right;\n",
       "    }\n",
       "</style>\n",
       "<table border=\"1\" class=\"dataframe\">\n",
       "  <thead>\n",
       "    <tr style=\"text-align: right;\">\n",
       "      <th></th>\n",
       "      <th>Feature</th>\n",
       "      <th>Score</th>\n",
       "    </tr>\n",
       "  </thead>\n",
       "  <tbody>\n",
       "    <tr>\n",
       "      <th>55</th>\n",
       "      <td>ServiceArea_der</td>\n",
       "      <td>4.709255</td>\n",
       "    </tr>\n",
       "    <tr>\n",
       "      <th>20</th>\n",
       "      <td>CurrentEquipmentDays_quantile_label</td>\n",
       "      <td>4.033412</td>\n",
       "    </tr>\n",
       "    <tr>\n",
       "      <th>38</th>\n",
       "      <td>MadeCallToRetentionTeam_freq_encoded</td>\n",
       "      <td>3.870531</td>\n",
       "    </tr>\n",
       "    <tr>\n",
       "      <th>0</th>\n",
       "      <td>MadeCallToRetentionTeam</td>\n",
       "      <td>3.573586</td>\n",
       "    </tr>\n",
       "    <tr>\n",
       "      <th>36</th>\n",
       "      <td>MonthsInService_log</td>\n",
       "      <td>3.155946</td>\n",
       "    </tr>\n",
       "    <tr>\n",
       "      <th>53</th>\n",
       "      <td>CreditRating_der</td>\n",
       "      <td>2.874271</td>\n",
       "    </tr>\n",
       "    <tr>\n",
       "      <th>11</th>\n",
       "      <td>CurrentEquipmentDays</td>\n",
       "      <td>2.801150</td>\n",
       "    </tr>\n",
       "    <tr>\n",
       "      <th>15</th>\n",
       "      <td>TotalRecurringCharge_quantile_label</td>\n",
       "      <td>2.615932</td>\n",
       "    </tr>\n",
       "    <tr>\n",
       "      <th>35</th>\n",
       "      <td>RetentionCalls_log</td>\n",
       "      <td>2.283967</td>\n",
       "    </tr>\n",
       "    <tr>\n",
       "      <th>1</th>\n",
       "      <td>HandsetWebCapable</td>\n",
       "      <td>2.201671</td>\n",
       "    </tr>\n",
       "    <tr>\n",
       "      <th>19</th>\n",
       "      <td>MonthsInService_quantile_label</td>\n",
       "      <td>2.084926</td>\n",
       "    </tr>\n",
       "    <tr>\n",
       "      <th>34</th>\n",
       "      <td>HandsetModels_log</td>\n",
       "      <td>1.987825</td>\n",
       "    </tr>\n",
       "    <tr>\n",
       "      <th>17</th>\n",
       "      <td>PercChangeRevenues_quantile_label</td>\n",
       "      <td>1.845346</td>\n",
       "    </tr>\n",
       "    <tr>\n",
       "      <th>3</th>\n",
       "      <td>RespondsToMailOffers</td>\n",
       "      <td>1.841882</td>\n",
       "    </tr>\n",
       "    <tr>\n",
       "      <th>39</th>\n",
       "      <td>HandsetWebCapable_freq_encoded</td>\n",
       "      <td>1.827780</td>\n",
       "    </tr>\n",
       "    <tr>\n",
       "      <th>16</th>\n",
       "      <td>PercChangeMinutes_quantile_label</td>\n",
       "      <td>1.798648</td>\n",
       "    </tr>\n",
       "    <tr>\n",
       "      <th>31</th>\n",
       "      <td>UniqueSubs_log</td>\n",
       "      <td>1.781984</td>\n",
       "    </tr>\n",
       "    <tr>\n",
       "      <th>32</th>\n",
       "      <td>ActiveSubs_log</td>\n",
       "      <td>1.741490</td>\n",
       "    </tr>\n",
       "    <tr>\n",
       "      <th>40</th>\n",
       "      <td>BuysViaMailOrder_freq_encoded</td>\n",
       "      <td>1.671040</td>\n",
       "    </tr>\n",
       "    <tr>\n",
       "      <th>4</th>\n",
       "      <td>OwnsMotorcycle</td>\n",
       "      <td>1.593655</td>\n",
       "    </tr>\n",
       "    <tr>\n",
       "      <th>6</th>\n",
       "      <td>CreditRating</td>\n",
       "      <td>1.592396</td>\n",
       "    </tr>\n",
       "    <tr>\n",
       "      <th>12</th>\n",
       "      <td>AgeHH1</td>\n",
       "      <td>1.592225</td>\n",
       "    </tr>\n",
       "    <tr>\n",
       "      <th>46</th>\n",
       "      <td>MaritalStatus_freq_encoded</td>\n",
       "      <td>1.556005</td>\n",
       "    </tr>\n",
       "    <tr>\n",
       "      <th>7</th>\n",
       "      <td>Occupation</td>\n",
       "      <td>1.539996</td>\n",
       "    </tr>\n",
       "    <tr>\n",
       "      <th>22</th>\n",
       "      <td>MonthlyRevenue_log</td>\n",
       "      <td>1.532164</td>\n",
       "    </tr>\n",
       "    <tr>\n",
       "      <th>37</th>\n",
       "      <td>AdjustmentsToCreditRating_log</td>\n",
       "      <td>1.519524</td>\n",
       "    </tr>\n",
       "    <tr>\n",
       "      <th>43</th>\n",
       "      <td>HandsetPrice_freq_encoded</td>\n",
       "      <td>1.497822</td>\n",
       "    </tr>\n",
       "    <tr>\n",
       "      <th>25</th>\n",
       "      <td>UnansweredCalls_log</td>\n",
       "      <td>1.491814</td>\n",
       "    </tr>\n",
       "    <tr>\n",
       "      <th>24</th>\n",
       "      <td>RoamingCalls_log</td>\n",
       "      <td>1.475274</td>\n",
       "    </tr>\n",
       "    <tr>\n",
       "      <th>42</th>\n",
       "      <td>OwnsMotorcycle_freq_encoded</td>\n",
       "      <td>1.455239</td>\n",
       "    </tr>\n",
       "    <tr>\n",
       "      <th>10</th>\n",
       "      <td>HandsetModels</td>\n",
       "      <td>1.454829</td>\n",
       "    </tr>\n",
       "    <tr>\n",
       "      <th>52</th>\n",
       "      <td>Occupation_der</td>\n",
       "      <td>1.452641</td>\n",
       "    </tr>\n",
       "    <tr>\n",
       "      <th>9</th>\n",
       "      <td>Handsets</td>\n",
       "      <td>1.450923</td>\n",
       "    </tr>\n",
       "    <tr>\n",
       "      <th>14</th>\n",
       "      <td>MonthlyRevenue_quantile_label</td>\n",
       "      <td>1.431822</td>\n",
       "    </tr>\n",
       "    <tr>\n",
       "      <th>44</th>\n",
       "      <td>CreditRating_freq_encoded</td>\n",
       "      <td>1.411004</td>\n",
       "    </tr>\n",
       "    <tr>\n",
       "      <th>5</th>\n",
       "      <td>HandsetPrice</td>\n",
       "      <td>1.399804</td>\n",
       "    </tr>\n",
       "    <tr>\n",
       "      <th>26</th>\n",
       "      <td>CustomerCareCalls_log</td>\n",
       "      <td>1.395548</td>\n",
       "    </tr>\n",
       "    <tr>\n",
       "      <th>49</th>\n",
       "      <td>CurrentEquipmentDays_freq_encoded</td>\n",
       "      <td>1.382486</td>\n",
       "    </tr>\n",
       "    <tr>\n",
       "      <th>8</th>\n",
       "      <td>MaritalStatus</td>\n",
       "      <td>1.375947</td>\n",
       "    </tr>\n",
       "    <tr>\n",
       "      <th>21</th>\n",
       "      <td>IncomeGroup_quantile_label</td>\n",
       "      <td>1.363776</td>\n",
       "    </tr>\n",
       "    <tr>\n",
       "      <th>28</th>\n",
       "      <td>BlockedCalls_log</td>\n",
       "      <td>1.363466</td>\n",
       "    </tr>\n",
       "    <tr>\n",
       "      <th>51</th>\n",
       "      <td>AgeHH2_freq_encoded</td>\n",
       "      <td>1.359045</td>\n",
       "    </tr>\n",
       "    <tr>\n",
       "      <th>13</th>\n",
       "      <td>AgeHH2</td>\n",
       "      <td>1.345362</td>\n",
       "    </tr>\n",
       "    <tr>\n",
       "      <th>23</th>\n",
       "      <td>DirectorAssistedCalls_log</td>\n",
       "      <td>1.343829</td>\n",
       "    </tr>\n",
       "    <tr>\n",
       "      <th>54</th>\n",
       "      <td>HandsetPrice_der</td>\n",
       "      <td>1.336956</td>\n",
       "    </tr>\n",
       "    <tr>\n",
       "      <th>45</th>\n",
       "      <td>Occupation_freq_encoded</td>\n",
       "      <td>1.335116</td>\n",
       "    </tr>\n",
       "    <tr>\n",
       "      <th>48</th>\n",
       "      <td>HandsetModels_freq_encoded</td>\n",
       "      <td>1.316956</td>\n",
       "    </tr>\n",
       "    <tr>\n",
       "      <th>2</th>\n",
       "      <td>BuysViaMailOrder</td>\n",
       "      <td>1.315073</td>\n",
       "    </tr>\n",
       "    <tr>\n",
       "      <th>29</th>\n",
       "      <td>CallWaitingCalls_log</td>\n",
       "      <td>1.302704</td>\n",
       "    </tr>\n",
       "    <tr>\n",
       "      <th>27</th>\n",
       "      <td>ThreewayCalls_log</td>\n",
       "      <td>1.298395</td>\n",
       "    </tr>\n",
       "    <tr>\n",
       "      <th>33</th>\n",
       "      <td>Handsets_log</td>\n",
       "      <td>1.295084</td>\n",
       "    </tr>\n",
       "    <tr>\n",
       "      <th>41</th>\n",
       "      <td>RespondsToMailOffers_freq_encoded</td>\n",
       "      <td>1.230529</td>\n",
       "    </tr>\n",
       "    <tr>\n",
       "      <th>50</th>\n",
       "      <td>AgeHH1_freq_encoded</td>\n",
       "      <td>1.221514</td>\n",
       "    </tr>\n",
       "    <tr>\n",
       "      <th>18</th>\n",
       "      <td>UnansweredCalls_quantile_label</td>\n",
       "      <td>1.135283</td>\n",
       "    </tr>\n",
       "    <tr>\n",
       "      <th>47</th>\n",
       "      <td>Handsets_freq_encoded</td>\n",
       "      <td>1.132880</td>\n",
       "    </tr>\n",
       "    <tr>\n",
       "      <th>30</th>\n",
       "      <td>CallForwardingCalls_log</td>\n",
       "      <td>1.002271</td>\n",
       "    </tr>\n",
       "  </tbody>\n",
       "</table>\n",
       "</div>"
      ],
      "text/plain": [
       "                                 Feature     Score\n",
       "55                       ServiceArea_der  4.709255\n",
       "20   CurrentEquipmentDays_quantile_label  4.033412\n",
       "38  MadeCallToRetentionTeam_freq_encoded  3.870531\n",
       "0                MadeCallToRetentionTeam  3.573586\n",
       "36                   MonthsInService_log  3.155946\n",
       "53                      CreditRating_der  2.874271\n",
       "11                  CurrentEquipmentDays  2.801150\n",
       "15   TotalRecurringCharge_quantile_label  2.615932\n",
       "35                    RetentionCalls_log  2.283967\n",
       "1                      HandsetWebCapable  2.201671\n",
       "19        MonthsInService_quantile_label  2.084926\n",
       "34                     HandsetModels_log  1.987825\n",
       "17     PercChangeRevenues_quantile_label  1.845346\n",
       "3                   RespondsToMailOffers  1.841882\n",
       "39        HandsetWebCapable_freq_encoded  1.827780\n",
       "16      PercChangeMinutes_quantile_label  1.798648\n",
       "31                        UniqueSubs_log  1.781984\n",
       "32                        ActiveSubs_log  1.741490\n",
       "40         BuysViaMailOrder_freq_encoded  1.671040\n",
       "4                         OwnsMotorcycle  1.593655\n",
       "6                           CreditRating  1.592396\n",
       "12                                AgeHH1  1.592225\n",
       "46            MaritalStatus_freq_encoded  1.556005\n",
       "7                             Occupation  1.539996\n",
       "22                    MonthlyRevenue_log  1.532164\n",
       "37         AdjustmentsToCreditRating_log  1.519524\n",
       "43             HandsetPrice_freq_encoded  1.497822\n",
       "25                   UnansweredCalls_log  1.491814\n",
       "24                      RoamingCalls_log  1.475274\n",
       "42           OwnsMotorcycle_freq_encoded  1.455239\n",
       "10                         HandsetModels  1.454829\n",
       "52                        Occupation_der  1.452641\n",
       "9                               Handsets  1.450923\n",
       "14         MonthlyRevenue_quantile_label  1.431822\n",
       "44             CreditRating_freq_encoded  1.411004\n",
       "5                           HandsetPrice  1.399804\n",
       "26                 CustomerCareCalls_log  1.395548\n",
       "49     CurrentEquipmentDays_freq_encoded  1.382486\n",
       "8                          MaritalStatus  1.375947\n",
       "21            IncomeGroup_quantile_label  1.363776\n",
       "28                      BlockedCalls_log  1.363466\n",
       "51                   AgeHH2_freq_encoded  1.359045\n",
       "13                                AgeHH2  1.345362\n",
       "23             DirectorAssistedCalls_log  1.343829\n",
       "54                      HandsetPrice_der  1.336956\n",
       "45               Occupation_freq_encoded  1.335116\n",
       "48            HandsetModels_freq_encoded  1.316956\n",
       "2                       BuysViaMailOrder  1.315073\n",
       "29                  CallWaitingCalls_log  1.302704\n",
       "27                     ThreewayCalls_log  1.298395\n",
       "33                          Handsets_log  1.295084\n",
       "41     RespondsToMailOffers_freq_encoded  1.230529\n",
       "50                   AgeHH1_freq_encoded  1.221514\n",
       "18        UnansweredCalls_quantile_label  1.135283\n",
       "47                 Handsets_freq_encoded  1.132880\n",
       "30               CallForwardingCalls_log  1.002271"
      ]
     },
     "execution_count": 701,
     "metadata": {},
     "output_type": "execute_result"
    }
   ],
   "source": [
    "xgb_predictors = [\n",
    "            'MadeCallToRetentionTeam' , 'HandsetWebCapable', 'BuysViaMailOrder' , 'RespondsToMailOffers', 'OwnsMotorcycle',\n",
    "            'HandsetPrice', 'CreditRating', 'Occupation', 'MaritalStatus', \n",
    "            \"Handsets\", \"HandsetModels\", \"CurrentEquipmentDays\", \"AgeHH1\", \"AgeHH2\",\n",
    "                  \n",
    "            'MonthlyRevenue_quantile_label', 'TotalRecurringCharge_quantile_label',\n",
    "            'PercChangeMinutes_quantile_label', 'PercChangeRevenues_quantile_label',\n",
    "            'UnansweredCalls_quantile_label', 'MonthsInService_quantile_label',\n",
    "            'CurrentEquipmentDays_quantile_label', 'IncomeGroup_quantile_label',\n",
    "                  \n",
    "            'MonthlyRevenue_log', 'DirectorAssistedCalls_log', 'RoamingCalls_log',\n",
    "            'UnansweredCalls_log', 'CustomerCareCalls_log', 'ThreewayCalls_log',\n",
    "            'BlockedCalls_log', 'CallWaitingCalls_log', 'CallForwardingCalls_log',\n",
    "            'UniqueSubs_log', 'ActiveSubs_log', 'Handsets_log', 'HandsetModels_log',\n",
    "            'RetentionCalls_log', 'MonthsInService_log',\n",
    "            'AdjustmentsToCreditRating_log',\n",
    "            \n",
    "            \n",
    "            #'MadeCallToRetentionTeam_mean_encoded', 'HandsetWebCapable_mean_encoded', 'BuysViaMailOrder_mean_encoded',\n",
    "            #'RespondsToMailOffers_mean_encoded', 'OwnsMotorcycle_mean_encoded', 'HandsetPrice_mean_encoded', \n",
    "            #'CreditRating_mean_encoded', 'Occupation_mean_encoded', 'MaritalStatus_mean_encoded', 'Handsets_mean_encoded', \n",
    "            #'HandsetModels_mean_encoded', 'CurrentEquipmentDays_mean_encoded', 'AgeHH1_mean_encoded', 'AgeHH2_mean_encoded'\n",
    "    \n",
    "            'MadeCallToRetentionTeam_freq_encoded', 'HandsetWebCapable_freq_encoded', \n",
    "            'BuysViaMailOrder_freq_encoded',  'RespondsToMailOffers_freq_encoded', 'OwnsMotorcycle_freq_encoded', \n",
    "            'HandsetPrice_freq_encoded',  'CreditRating_freq_encoded', 'Occupation_freq_encoded', 'MaritalStatus_freq_encoded',\n",
    "            'Handsets_freq_encoded',  'HandsetModels_freq_encoded', 'CurrentEquipmentDays_freq_encoded', \n",
    "            'AgeHH1_freq_encoded', 'AgeHH2_freq_encoded',\n",
    "    \n",
    "            'Occupation_der', 'CreditRating_der', 'HandsetPrice_der', 'ServiceArea_der'\n",
    "            \n",
    "           ]\n",
    "\n",
    "xgb_X_train = X_train[xgb_predictors]\n",
    "xgb_y_train = y_train\n",
    "\n",
    "xgb_X_test = X_test[xgb_predictors]\n",
    "xgb_y_test = y_test\n",
    "\n",
    "\n",
    "param_test1 = {\n",
    "    'max_depth':[5,7,9],\n",
    "    'min_child_weight':range(1,6,2),\n",
    "    \"max_depth\": [5,7,9],\n",
    "    \"min_samples_split\" : [8, 10, 12],\n",
    "    #\"max_features\": np.arange(1, 9),\n",
    "    #\"min_samples_leaf\": np.arange(1, 9),\n",
    "    \"criterion\": [\"gini\", \"entropy\"]\n",
    "}\n",
    "gsearch1 = GridSearchCV(estimator = XGBClassifier( learning_rate =0.05, n_estimators=140, max_depth=5,\n",
    " min_child_weight=1, gamma=0, subsample=0.1, colsample_bytree=0.8, #eval_metric = 'aucpr',\n",
    " objective= 'binary:logistic', nthread=4, scale_pos_weight=1, seed=27), \n",
    " param_grid = param_test1, scoring='roc_auc',n_jobs=4,iid=False, cv=5)\n",
    "#gsearch1.fit(xgb_X_train, xgb_y_train)\n",
    "\n",
    "\n",
    "#gsearch1.grid_scores_, gsearch1.best_params_, gsearch1.best_score_\n",
    "\n",
    "#xgb_model = gsearch1.best_estimator_  #'reg:logistic' 'binary:logistic'\n",
    "\n",
    "xgb_modelfit = XGBClassifier(learning_rate =0.08, n_estimators=200, max_depth=7,\n",
    " min_child_weight=3, gamma=0, subsample=0.9, colsample_bytree=0.8, eval_metric = 'aucpr', #'aucpr',\n",
    " objective= 'reg:logistic', nthread=4, scale_pos_weight=2.1, seed=27)\n",
    "xgb_model = xgb_modelfit.fit(xgb_X_train, xgb_y_train)\n",
    "\n",
    "\n",
    "# Traning data\n",
    "rf_y_train = xgb_y_train\n",
    "rf_y_train_pred = xgb_model.predict(xgb_X_train)\n",
    "rf_y_train_pred_score = xgb_model.predict_proba(xgb_X_train)\n",
    "rf_y_train_pred_score = rf_y_train_pred_score[:, 1]\n",
    "\n",
    "# Test data\n",
    "rf_y_test = xgb_y_test\n",
    "rf_y_pred = xgb_model.predict(xgb_X_test)\n",
    "rf_y_pred_score = xgb_model.predict_proba(xgb_X_test)\n",
    "rf_y_pred_score = rf_y_pred_score[:, 1]\n",
    "\n",
    "metrices(\"Train\", rf_y_train, rf_y_train_pred, rf_y_train_pred_score)\n",
    "print('\\n\\n')\n",
    "metrices(\"Test\", rf_y_test, rf_y_pred, rf_y_pred_score)\n",
    "\n",
    "feature_score = feature_score = pd.DataFrame(list(zip(xgb_X_train.dtypes.index, xgb_model.feature_importances_*100)),\n",
    "                columns=['Feature','Score'])\n",
    "feature_score = feature_score.sort_values(by='Score', ascending=False, inplace=False, kind='quicksort', na_position='last')\n",
    "feature_score"
   ]
  },
  {
   "cell_type": "markdown",
   "metadata": {},
   "source": [
    "#### XGB Shapely Additive Explaination"
   ]
  },
  {
   "cell_type": "code",
   "execution_count": 428,
   "metadata": {
    "scrolled": false
   },
   "outputs": [
    {
     "name": "stderr",
     "output_type": "stream",
     "text": [
      "Setting feature_perturbation = \"tree_path_dependent\" because no background data was given.\n"
     ]
    }
   ],
   "source": [
    "# DF, based on which importance is checked\n",
    "xgb_importance = xgb_X_train # \n",
    "#xgb_importance = xgb_X_test\n",
    "\n",
    "# Explain model predictions using shap library:\n",
    "explainer = shap.TreeExplainer(xgb_model)\n",
    "shap_values = explainer.shap_values(xgb_importance)"
   ]
  },
  {
   "cell_type": "code",
   "execution_count": 429,
   "metadata": {
    "scrolled": false
   },
   "outputs": [
    {
     "data": {
      "image/png": "[encoded data removed]",
      "text/plain": [
       "<Figure size 576x684 with 2 Axes>"
      ]
     },
     "metadata": {
      "needs_background": "light"
     },
     "output_type": "display_data"
    }
   ],
   "source": [
    "# Plot summary_plot\n",
    "shap.summary_plot(shap_values, xgb_importance)"
   ]
  },
  {
   "cell_type": "code",
   "execution_count": null,
   "metadata": {},
   "outputs": [],
   "source": []
  }
 ],
 "metadata": {
  "kernelspec": {
   "display_name": "Python 3",
   "language": "python",
   "name": "python3"
  },
  "language_info": {
   "codemirror_mode": {
    "name": "ipython",
    "version": 3
   },
   "file_extension": ".py",
   "mimetype": "text/x-python",
   "name": "python",
   "nbconvert_exporter": "python",
   "pygments_lexer": "ipython3",
   "version": "3.6.10"
  }
 },
 "nbformat": 4,
 "nbformat_minor": 2
}
